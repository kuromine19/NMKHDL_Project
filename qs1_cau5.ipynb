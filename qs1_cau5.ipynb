{
 "cells": [
  {
   "cell_type": "markdown",
   "metadata": {},
   "source": [
    "# **ĐỒ ÁN: NHẬP MÔN KHOA HỌC DỮ LIỆU** #\n",
    "\n",
    "### Nhóm 7 ###\n",
    "|<div style=\"width:150px\">MSSV</div>|<div style=\"width:290px\">Tên</div>|\n",
    "|---------- |:-------------:|\n",
    "| 20120041  |  Trần Kim Bảo |\n",
    "| 20120053  |    Nguyễn Thành Đạt   | \n",
    "| 20120071  | Nguyễn Thị Bích Hà |\n",
    "| 20120113  | Lê Nguyên Khang |"
   ]
  },
  {
   "cell_type": "markdown",
   "metadata": {},
   "source": [
    "## <font color='orange'> Import thư viện </font> ##"
   ]
  },
  {
   "cell_type": "code",
   "execution_count": null,
   "metadata": {},
   "outputs": [],
   "source": [
    "!pip install scrapy\n",
    "!pip install spider3"
   ]
  },
  {
   "cell_type": "code",
   "execution_count": 1,
   "metadata": {},
   "outputs": [],
   "source": [
    "import json\n",
    "import re\n",
    "import pandas as pd\n",
    "import numpy as np\n",
    "import matplotlib.pyplot as plt\n",
    "import seaborn as sns\n",
    "sns.set_theme()\n",
    "import scrapy\n",
    "import math\n",
    "from pandas.testing import assert_frame_equal # to compare two dataframes\n",
    "# YOUR CODE HERE (OPTION) \n",
    "# Nếu cần các thư viện khác thì bạn có thể import thêm tại đây"
   ]
  },
  {
   "cell_type": "markdown",
   "metadata": {},
   "source": [
    "## <font color='orange'> Mô tả trang web </font> ##\n",
    "\n",
    "Trong đồ án này nhóm mình xin được giới thiệu đến mọi người danh sách phim hay nhất mọi thời đại *(Thời gian tính đến ngày 19/11/2022)* được trang IMDb tổng hợp. **IMDb** (<font color='blue'>https://www.imdb.com/</font>) là một trang cơ sở dữ liệu trực tuyến về điện ảnh thế giới, cung cấp thông tin về phim, diễn viên, đạo diễn, nhà làm phim,.. và tất cả những người, công ty trong lĩnh vực sản xuất phim, phim truyền hình và cả trò chơi video.\n",
    "\n",
    "Những thông tin được thu thập tại website: <font color='blue'>https://www.imdb.com/list/ls006266261/</font>"
   ]
  },
  {
   "cell_type": "markdown",
   "metadata": {},
   "source": [
    "### Tạo một project mới với scrapy ###"
   ]
  },
  {
   "cell_type": "code",
   "execution_count": 2,
   "metadata": {},
   "outputs": [
    {
     "name": "stdout",
     "output_type": "stream",
     "text": [
      "Error: scrapy.cfg already exists in d:\\KHDL\\Lab_CK\\film_crawler\n"
     ]
    }
   ],
   "source": [
    "!scrapy startproject film_crawler"
   ]
  },
  {
   "cell_type": "code",
   "execution_count": 2,
   "metadata": {},
   "outputs": [
    {
     "name": "stdout",
     "output_type": "stream",
     "text": [
      "d:\\KHDL\\Lab_CK\\film_crawler\\film_crawler\n"
     ]
    }
   ],
   "source": [
    "cd film_crawler/film_crawler"
   ]
  },
  {
   "cell_type": "markdown",
   "metadata": {},
   "source": [
    "---"
   ]
  },
  {
   "cell_type": "markdown",
   "metadata": {},
   "source": [
    "## <font color='orange'> Thu thập thông tin từ web </font> ##\n",
    "**<h5>1. Thu thập url, id, votes, gross của các phim </h5>**"
   ]
  },
  {
   "cell_type": "code",
   "execution_count": 3,
   "metadata": {},
   "outputs": [
    {
     "name": "stdout",
     "output_type": "stream",
     "text": [
      "Overwriting spiders/collect_film_urls.py\n"
     ]
    }
   ],
   "source": [
    "%%writefile spiders/collect_film_urls.py\n",
    "import scrapy\n",
    "\n",
    "class collect_film_url(scrapy.Spider):\n",
    "  name='film_urls' \n",
    "  \n",
    "  def start_requests(self):\n",
    "    urls=['https://www.imdb.com/list/ls006266261/?sort=list_order,asc&st_dt=&mode=detail&page=1']\n",
    "    self.page=1\n",
    "    yield scrapy.Request(url=urls[0], callback=self.parse)\n",
    "        \n",
    "  def parse(self, response):\n",
    "    stt=response.css('div.lister-list span.lister-item-index.unbold.text-primary::text').getall()\n",
    "    id=response.css('div.lister-list img::attr(data-tconst)').getall()\n",
    "    url=response.css('div.lister-list div.lister-item.mode-detail div.lister-item-image.ribbonize a::attr(href)').re(r'.*/title/.*\\d{4,10}.')\n",
    "    for i in range(len(stt)):\n",
    "      yield{\n",
    "        'STT': stt[i],\n",
    "        'ID':id[i],\n",
    "        'URL':url[i],\n",
    "        'Votes':response.xpath(f'//*[@id=\"main\"]/div/div[4]/div[3]/div[{i+1}]/div[2]/p[4]/span[2]/@data-value').get(),\n",
    "        'Gross':response.xpath(f'//*[@id=\"main\"]/div/div[4]/div[3]/div[{i+1}]/div[2]/p[4]/span[5]/@data-value').get()\n",
    "      }\n",
    "    if self.page<11:\n",
    "      self.page+=1\n",
    "      next_page_url=f'https://www.imdb.com/list/ls006266261/?sort=list_order,asc&st_dt=&mode=detail&page={self.page}'\n",
    "      yield scrapy.Request(url=next_page_url, callback=self.parse)\n",
    "      "
   ]
  },
  {
   "cell_type": "markdown",
   "metadata": {},
   "source": [
    "- **Xuất các thông tin đã thu thập ở trên ra file json**"
   ]
  },
  {
   "cell_type": "code",
   "execution_count": null,
   "metadata": {},
   "outputs": [],
   "source": [
    "!scrapy crawl film_urls -o dataset/film_urls.json"
   ]
  },
  {
   "cell_type": "code",
   "execution_count": 46,
   "metadata": {},
   "outputs": [
    {
     "name": "stdout",
     "output_type": "stream",
     "text": [
      "Overwriting spiders/collect_data_films.py\n"
     ]
    }
   ],
   "source": [
    "%%writefile spiders/collect_data_films.py\n",
    "import scrapy\n",
    "import pandas as pd\n",
    "import numpy as np\n",
    "from selenium import webdriver\n",
    "\n",
    "class collect_data_film(scrapy.Spider):\n",
    "  name='data_film'\n",
    "  def __init__(self):\n",
    "    try:\n",
    "      df = pd.read_json('./dataset/film_urls.json', encoding='utf-8-sig')\n",
    "      self.urls=df['URL']\n",
    "    except IOError:\n",
    "      print(\"File not found\")\n",
    "  def start_requests(self):\n",
    "    self.headers = {'User-Agent': 'Mozilla/5.0 (X11; Linux x86_64; rv:48.0) Gecko/20100101 Firefox/48.0'}\n",
    "    # CALOS\n",
    "    # scrapy shell -s USER_AGENT='custom user agent' 'https://www.imdb.com/title/tt1321865/?ref_=ttls_li_tt'\n",
    "    # JFK\n",
    "    # scrapy shell -s USER_AGENT='custom user agent' 'https://www.imdb.com/title/tt0102138/?ref_=ttls_li_tt'\n",
    "    # THE FIRM\n",
    "    # scrapy shell -s USER_AGENT='custom user agent' 'https://www.imdb.com/title/tt0095158/?ref_=ttls_li_tt'\n",
    "    for i in range(1000):\n",
    "      next_page_url=f'https://www.imdb.com{self.urls[i]}?ref_=ttls_li_tt'\n",
    "      yield scrapy.Request(url=next_page_url, callback=self.parse,headers=self.headers)\n",
    "\n",
    "  def parse(self, response):\n",
    "\n",
    "    # ID\n",
    "    id_film=response.css('a.ipc-lockup-overlay.ipc-focusable::attr(href)').re(r'\\w*\\d{4,10}')[0]\n",
    "    # Name\n",
    "    name=response.css('h1[data-testid=\"hero-title-block__title\"]::text').get()\n",
    "    # Year release\n",
    "    published_year=response.css(\"a[href*=releaseinfo]::text\").re(r'\\d{4}')[0]\n",
    "    # Rate age\n",
    "    age_rated=response.css(\"a[href*=certificates]::text\").get()\n",
    "    # Duration\n",
    "    duration=response.css('div.ipc-metadata-list-item__content-container::text').getall()\n",
    "    # Genres\n",
    "    genres=response.css(\"a[href*=genres] span.ipc-chip__text::text\").getall()\n",
    "    \n",
    "    # Director\n",
    "    Director=set(response.xpath('//*[@id=\"__next\"]/main/div/section[1]/section/div[3]').xpath(\".//*[contains(text(),'Director')]\").xpath('following-sibling::div/ul/li/a/text()').getall())\n",
    "    # Writes\n",
    "    Writers=set(response.xpath('//*[@id=\"__next\"]/main/div/section[1]/section/div[3]').xpath(\".//*[contains(text(),'Writer')]\").xpath('following-sibling::div/ul/li/a/text()').getall())\n",
    "    # Stars\n",
    "    Stars=set(response.xpath('//*[@id=\"__next\"]/main/div/section[1]/section/div[3]').xpath(\".//*[contains(text(),'Star')]\").xpath('following-sibling::div/ul/li/a/text()').getall())\n",
    "    \n",
    "    # Budget\n",
    "    try:\n",
    "      Budget=response.xpath(\".//*[contains(text(),'Budget')]\").xpath('following-sibling::div/ul/li/label/text()').re(r'^.?.*\\s')[0]\n",
    "    except:\n",
    "      Budget=None\n",
    "\n",
    "    #  IMDb rating\n",
    "    IMDb_rating = response.css(\"span.sc-7ab21ed2-1::text\").get()\n",
    "    # Popularity\n",
    "    popularity = response.css(\"div.sc-edc76a2-1::text\").get()\n",
    "    # User reviews\n",
    "    user_reviews = response.xpath('//div[3]/div[2]/div[2]/ul/li[1]/a/span/span[1]/text()').get()\n",
    "    # Critic reviews\n",
    "    critic_reviews = response.xpath('//div[3]/div[2]/div[2]/ul/li[2]/a/span/span[1]/text()').get()\n",
    "    # Metascore\n",
    "    meta_score = response.xpath('//div[3]/div[2]/div[2]/ul/li[3]/a/span/span[1]/span/text()').get()\n",
    "    # Oscar wins\n",
    "    wins = response.css(\"a[href*=awards]::text\").get()\n",
    "  \n",
    "    yield {\n",
    "      'ID':id_film,\n",
    "      'Name':name,\n",
    "      'Published Year':published_year,\n",
    "      'Rated':age_rated,\n",
    "      'Duration':duration,\n",
    "      'Genres':genres,\n",
    "      \n",
    "      'Director':Director,\n",
    "      'Writers':Writers,\n",
    "      'Stars':Stars,\n",
    "      'Budget (estimated)':Budget,\n",
    "      \n",
    "      \"IMDb RATING\": IMDb_rating,\n",
    "      \"Popularity\" : popularity,\n",
    "      \"User reviews\": user_reviews,\n",
    "      \"Critic reviews\": critic_reviews,\n",
    "      \"Meta score\": meta_score,\n",
    "      \"Wins\": wins,\n",
    "    }"
   ]
  },
  {
   "cell_type": "code",
   "execution_count": null,
   "metadata": {},
   "outputs": [],
   "source": [
    "!scrapy crawl data_film -o dataset/data_film.json"
   ]
  },
  {
   "cell_type": "markdown",
   "metadata": {},
   "source": [
    "---"
   ]
  },
  {
   "cell_type": "markdown",
   "metadata": {},
   "source": [
    "## <font color='orange'> Khám phá dữ liệu </font> ##"
   ]
  },
  {
   "cell_type": "markdown",
   "metadata": {},
   "source": [
    "<h4>1. Đọc dữ liệu</h4>\n",
    "\n",
    "- <h5>Đọc file film_urls vào dataframe<h5>"
   ]
  },
  {
   "cell_type": "code",
   "execution_count": 3,
   "metadata": {},
   "outputs": [
    {
     "data": {
      "text/html": [
       "<div>\n",
       "<style scoped>\n",
       "    .dataframe tbody tr th:only-of-type {\n",
       "        vertical-align: middle;\n",
       "    }\n",
       "\n",
       "    .dataframe tbody tr th {\n",
       "        vertical-align: top;\n",
       "    }\n",
       "\n",
       "    .dataframe thead th {\n",
       "        text-align: right;\n",
       "    }\n",
       "</style>\n",
       "<table border=\"1\" class=\"dataframe\">\n",
       "  <thead>\n",
       "    <tr style=\"text-align: right;\">\n",
       "      <th></th>\n",
       "      <th>STT</th>\n",
       "      <th>ID</th>\n",
       "      <th>URL</th>\n",
       "      <th>Votes</th>\n",
       "      <th>Gross</th>\n",
       "    </tr>\n",
       "  </thead>\n",
       "  <tbody>\n",
       "    <tr>\n",
       "      <th>0</th>\n",
       "      <td>1.</td>\n",
       "      <td>tt0068646</td>\n",
       "      <td>/title/tt0068646/</td>\n",
       "      <td>1849463</td>\n",
       "      <td>134,966,411</td>\n",
       "    </tr>\n",
       "    <tr>\n",
       "      <th>1</th>\n",
       "      <td>2.</td>\n",
       "      <td>tt0099685</td>\n",
       "      <td>/title/tt0099685/</td>\n",
       "      <td>1156922</td>\n",
       "      <td>46,836,394</td>\n",
       "    </tr>\n",
       "    <tr>\n",
       "      <th>2</th>\n",
       "      <td>3.</td>\n",
       "      <td>tt0110912</td>\n",
       "      <td>/title/tt0110912/</td>\n",
       "      <td>2043441</td>\n",
       "      <td>107,928,762</td>\n",
       "    </tr>\n",
       "    <tr>\n",
       "      <th>3</th>\n",
       "      <td>4.</td>\n",
       "      <td>tt0114814</td>\n",
       "      <td>/title/tt0114814/</td>\n",
       "      <td>1083363</td>\n",
       "      <td>23,341,568</td>\n",
       "    </tr>\n",
       "    <tr>\n",
       "      <th>4</th>\n",
       "      <td>5.</td>\n",
       "      <td>tt0078788</td>\n",
       "      <td>/title/tt0078788/</td>\n",
       "      <td>666884</td>\n",
       "      <td>83,471,511</td>\n",
       "    </tr>\n",
       "  </tbody>\n",
       "</table>\n",
       "</div>"
      ],
      "text/plain": [
       "  STT         ID                URL    Votes        Gross\n",
       "0  1.  tt0068646  /title/tt0068646/  1849463  134,966,411\n",
       "1  2.  tt0099685  /title/tt0099685/  1156922   46,836,394\n",
       "2  3.  tt0110912  /title/tt0110912/  2043441  107,928,762\n",
       "3  4.  tt0114814  /title/tt0114814/  1083363   23,341,568\n",
       "4  5.  tt0078788  /title/tt0078788/   666884   83,471,511"
      ]
     },
     "execution_count": 3,
     "metadata": {},
     "output_type": "execute_result"
    }
   ],
   "source": [
    "df_url=pd.read_json('dataset/film_urls.json',encoding='utf-8-sig')\n",
    "df_url.head()"
   ]
  },
  {
   "cell_type": "markdown",
   "metadata": {},
   "source": [
    "- <h5>Đọc file data_film vào dataframe</h5>"
   ]
  },
  {
   "cell_type": "code",
   "execution_count": 4,
   "metadata": {},
   "outputs": [
    {
     "data": {
      "text/html": [
       "<div>\n",
       "<style scoped>\n",
       "    .dataframe tbody tr th:only-of-type {\n",
       "        vertical-align: middle;\n",
       "    }\n",
       "\n",
       "    .dataframe tbody tr th {\n",
       "        vertical-align: top;\n",
       "    }\n",
       "\n",
       "    .dataframe thead th {\n",
       "        text-align: right;\n",
       "    }\n",
       "</style>\n",
       "<table border=\"1\" class=\"dataframe\">\n",
       "  <thead>\n",
       "    <tr style=\"text-align: right;\">\n",
       "      <th></th>\n",
       "      <th>ID</th>\n",
       "      <th>Name</th>\n",
       "      <th>Published Year</th>\n",
       "      <th>Rated</th>\n",
       "      <th>Duration</th>\n",
       "      <th>Genres</th>\n",
       "      <th>Director</th>\n",
       "      <th>Writers</th>\n",
       "      <th>Stars</th>\n",
       "      <th>Budget (estimated)</th>\n",
       "      <th>IMDb RATING</th>\n",
       "      <th>Popularity</th>\n",
       "      <th>User reviews</th>\n",
       "      <th>Critic reviews</th>\n",
       "      <th>Meta score</th>\n",
       "      <th>Wins</th>\n",
       "    </tr>\n",
       "  </thead>\n",
       "  <tbody>\n",
       "    <tr>\n",
       "      <th>0</th>\n",
       "      <td>tt0068646</td>\n",
       "      <td>The Godfather</td>\n",
       "      <td>1972</td>\n",
       "      <td>R</td>\n",
       "      <td>[2,  , hours,  , 55,  , minutes]</td>\n",
       "      <td>[Crime, Drama]</td>\n",
       "      <td>[Francis Ford Coppola]</td>\n",
       "      <td>[Francis Ford Coppola, Mario Puzo]</td>\n",
       "      <td>[Al Pacino, Marlon Brando, James Caan]</td>\n",
       "      <td>$6,000,000</td>\n",
       "      <td>9.2</td>\n",
       "      <td>92</td>\n",
       "      <td>5.2K</td>\n",
       "      <td>193</td>\n",
       "      <td>100.0</td>\n",
       "      <td>Won 3 Oscars</td>\n",
       "    </tr>\n",
       "    <tr>\n",
       "      <th>1</th>\n",
       "      <td>tt0108052</td>\n",
       "      <td>Schindler's List</td>\n",
       "      <td>1993</td>\n",
       "      <td>R</td>\n",
       "      <td>[3,  , hours,  , 15,  , minutes]</td>\n",
       "      <td>[Biography, Drama, History]</td>\n",
       "      <td>[Steven Spielberg]</td>\n",
       "      <td>[Steven Zaillian, Thomas Keneally]</td>\n",
       "      <td>[Liam Neeson, Ben Kingsley, Ralph Fiennes]</td>\n",
       "      <td>$22,000,000</td>\n",
       "      <td>9.0</td>\n",
       "      <td>219</td>\n",
       "      <td>2.1K</td>\n",
       "      <td>175</td>\n",
       "      <td>94.0</td>\n",
       "      <td>Won 7 Oscars</td>\n",
       "    </tr>\n",
       "    <tr>\n",
       "      <th>2</th>\n",
       "      <td>tt0137523</td>\n",
       "      <td>Fight Club</td>\n",
       "      <td>1999</td>\n",
       "      <td>R</td>\n",
       "      <td>[2,  , hours,  , 19,  , minutes]</td>\n",
       "      <td>[Drama]</td>\n",
       "      <td>[David Fincher]</td>\n",
       "      <td>[Chuck Palahniuk, Jim Uhls]</td>\n",
       "      <td>[Edward Norton, Meat Loaf, Brad Pitt]</td>\n",
       "      <td>$63,000,000</td>\n",
       "      <td>8.8</td>\n",
       "      <td>139</td>\n",
       "      <td>4.3K</td>\n",
       "      <td>373</td>\n",
       "      <td>66.0</td>\n",
       "      <td>Nominated for 1 Oscar</td>\n",
       "    </tr>\n",
       "    <tr>\n",
       "      <th>3</th>\n",
       "      <td>tt0114814</td>\n",
       "      <td>The Usual Suspects</td>\n",
       "      <td>1995</td>\n",
       "      <td>R</td>\n",
       "      <td>[1,  , hour,  , 46,  , minutes]</td>\n",
       "      <td>[Crime, Drama, Mystery]</td>\n",
       "      <td>[Bryan Singer]</td>\n",
       "      <td>[Christopher McQuarrie]</td>\n",
       "      <td>[Chazz Palminteri, Kevin Spacey, Gabriel Byrne]</td>\n",
       "      <td>$6,000,000</td>\n",
       "      <td>8.5</td>\n",
       "      <td>425</td>\n",
       "      <td>1.4K</td>\n",
       "      <td>154</td>\n",
       "      <td>77.0</td>\n",
       "      <td>Won 2 Oscars</td>\n",
       "    </tr>\n",
       "    <tr>\n",
       "      <th>4</th>\n",
       "      <td>tt0078788</td>\n",
       "      <td>Apocalypse Now</td>\n",
       "      <td>1979</td>\n",
       "      <td>R</td>\n",
       "      <td>[2,  , hours,  , 27,  , minutes]</td>\n",
       "      <td>[Drama, Mystery, War]</td>\n",
       "      <td>[Francis Ford Coppola]</td>\n",
       "      <td>[Michael Herr, Francis Ford Coppola, John Milius]</td>\n",
       "      <td>[Martin Sheen, Marlon Brando, Robert Duvall]</td>\n",
       "      <td>$31,500,000</td>\n",
       "      <td>8.5</td>\n",
       "      <td>307</td>\n",
       "      <td>1.3K</td>\n",
       "      <td>302</td>\n",
       "      <td>94.0</td>\n",
       "      <td>Won 2 Oscars</td>\n",
       "    </tr>\n",
       "  </tbody>\n",
       "</table>\n",
       "</div>"
      ],
      "text/plain": [
       "          ID                Name  Published Year Rated  \\\n",
       "0  tt0068646       The Godfather            1972     R   \n",
       "1  tt0108052    Schindler's List            1993     R   \n",
       "2  tt0137523          Fight Club            1999     R   \n",
       "3  tt0114814  The Usual Suspects            1995     R   \n",
       "4  tt0078788      Apocalypse Now            1979     R   \n",
       "\n",
       "                           Duration                       Genres  \\\n",
       "0  [2,  , hours,  , 55,  , minutes]               [Crime, Drama]   \n",
       "1  [3,  , hours,  , 15,  , minutes]  [Biography, Drama, History]   \n",
       "2  [2,  , hours,  , 19,  , minutes]                      [Drama]   \n",
       "3   [1,  , hour,  , 46,  , minutes]      [Crime, Drama, Mystery]   \n",
       "4  [2,  , hours,  , 27,  , minutes]        [Drama, Mystery, War]   \n",
       "\n",
       "                 Director                                            Writers  \\\n",
       "0  [Francis Ford Coppola]                 [Francis Ford Coppola, Mario Puzo]   \n",
       "1      [Steven Spielberg]                 [Steven Zaillian, Thomas Keneally]   \n",
       "2         [David Fincher]                        [Chuck Palahniuk, Jim Uhls]   \n",
       "3          [Bryan Singer]                            [Christopher McQuarrie]   \n",
       "4  [Francis Ford Coppola]  [Michael Herr, Francis Ford Coppola, John Milius]   \n",
       "\n",
       "                                             Stars Budget (estimated)  \\\n",
       "0           [Al Pacino, Marlon Brando, James Caan]        $6,000,000    \n",
       "1       [Liam Neeson, Ben Kingsley, Ralph Fiennes]       $22,000,000    \n",
       "2            [Edward Norton, Meat Loaf, Brad Pitt]       $63,000,000    \n",
       "3  [Chazz Palminteri, Kevin Spacey, Gabriel Byrne]        $6,000,000    \n",
       "4     [Martin Sheen, Marlon Brando, Robert Duvall]       $31,500,000    \n",
       "\n",
       "   IMDb RATING Popularity User reviews Critic reviews  Meta score  \\\n",
       "0          9.2         92         5.2K            193       100.0   \n",
       "1          9.0        219         2.1K            175        94.0   \n",
       "2          8.8        139         4.3K            373        66.0   \n",
       "3          8.5        425         1.4K            154        77.0   \n",
       "4          8.5        307         1.3K            302        94.0   \n",
       "\n",
       "                    Wins  \n",
       "0           Won 3 Oscars  \n",
       "1           Won 7 Oscars  \n",
       "2  Nominated for 1 Oscar  \n",
       "3           Won 2 Oscars  \n",
       "4           Won 2 Oscars  "
      ]
     },
     "execution_count": 4,
     "metadata": {},
     "output_type": "execute_result"
    }
   ],
   "source": [
    "df_film=pd.read_json('dataset/data_film.json',encoding='utf-8-sig')\n",
    "df_film.head()"
   ]
  },
  {
   "cell_type": "markdown",
   "metadata": {},
   "source": [
    "- <h5>Hợp dữ liệu lại</h5>"
   ]
  },
  {
   "cell_type": "code",
   "execution_count": 5,
   "metadata": {},
   "outputs": [
    {
     "data": {
      "text/plain": [
       "(1000, 20)"
      ]
     },
     "execution_count": 5,
     "metadata": {},
     "output_type": "execute_result"
    }
   ],
   "source": [
    "film_info_df=df_url.merge(df_film, on=\"ID\", how=\"outer\")\n",
    "film_info_df.shape"
   ]
  },
  {
   "cell_type": "code",
   "execution_count": null,
   "metadata": {},
   "outputs": [],
   "source": [
    "film_info_df.head()"
   ]
  },
  {
   "cell_type": "markdown",
   "metadata": {},
   "source": [
    "- <h5>Ta thấy các cột như URL, Votes, Gross đứng đầu bảng thì rất khó quan sát, để dễ  quan sát và kiểm tra hơn, chúng ta cùng sắp xếp lại các cột nào</h5>"
   ]
  },
  {
   "cell_type": "code",
   "execution_count": 7,
   "metadata": {},
   "outputs": [],
   "source": [
    "film_info_df=film_info_df[['STT','ID','Name','Published Year','Rated','Duration','Genres','Director','Writers','Stars','IMDb RATING'\\\n",
    "    ,'Budget (estimated)','Gross','Popularity','Votes','User reviews','Critic reviews','Meta score','Wins','URL']]"
   ]
  },
  {
   "cell_type": "code",
   "execution_count": 8,
   "metadata": {},
   "outputs": [
    {
     "data": {
      "text/html": [
       "<div>\n",
       "<style scoped>\n",
       "    .dataframe tbody tr th:only-of-type {\n",
       "        vertical-align: middle;\n",
       "    }\n",
       "\n",
       "    .dataframe tbody tr th {\n",
       "        vertical-align: top;\n",
       "    }\n",
       "\n",
       "    .dataframe thead th {\n",
       "        text-align: right;\n",
       "    }\n",
       "</style>\n",
       "<table border=\"1\" class=\"dataframe\">\n",
       "  <thead>\n",
       "    <tr style=\"text-align: right;\">\n",
       "      <th></th>\n",
       "      <th>STT</th>\n",
       "      <th>ID</th>\n",
       "      <th>Name</th>\n",
       "      <th>Published Year</th>\n",
       "      <th>Rated</th>\n",
       "      <th>Duration</th>\n",
       "      <th>Genres</th>\n",
       "      <th>Director</th>\n",
       "      <th>Writers</th>\n",
       "      <th>Stars</th>\n",
       "      <th>IMDb RATING</th>\n",
       "      <th>Budget (estimated)</th>\n",
       "      <th>Gross</th>\n",
       "      <th>Popularity</th>\n",
       "      <th>Votes</th>\n",
       "      <th>User reviews</th>\n",
       "      <th>Critic reviews</th>\n",
       "      <th>Meta score</th>\n",
       "      <th>Wins</th>\n",
       "      <th>URL</th>\n",
       "    </tr>\n",
       "  </thead>\n",
       "  <tbody>\n",
       "    <tr>\n",
       "      <th>0</th>\n",
       "      <td>1.</td>\n",
       "      <td>tt0068646</td>\n",
       "      <td>The Godfather</td>\n",
       "      <td>1972</td>\n",
       "      <td>R</td>\n",
       "      <td>[2,  , hours,  , 55,  , minutes]</td>\n",
       "      <td>[Crime, Drama]</td>\n",
       "      <td>[Francis Ford Coppola]</td>\n",
       "      <td>[Francis Ford Coppola, Mario Puzo]</td>\n",
       "      <td>[Al Pacino, Marlon Brando, James Caan]</td>\n",
       "      <td>9.2</td>\n",
       "      <td>$6,000,000</td>\n",
       "      <td>134,966,411</td>\n",
       "      <td>92</td>\n",
       "      <td>1849463</td>\n",
       "      <td>5.2K</td>\n",
       "      <td>193</td>\n",
       "      <td>100.0</td>\n",
       "      <td>Won 3 Oscars</td>\n",
       "      <td>/title/tt0068646/</td>\n",
       "    </tr>\n",
       "    <tr>\n",
       "      <th>1</th>\n",
       "      <td>2.</td>\n",
       "      <td>tt0099685</td>\n",
       "      <td>Goodfellas</td>\n",
       "      <td>1990</td>\n",
       "      <td>R</td>\n",
       "      <td>[2,  , hours,  , 25,  , minutes]</td>\n",
       "      <td>[Biography, Crime, Drama]</td>\n",
       "      <td>[Martin Scorsese]</td>\n",
       "      <td>[Nicholas Pileggi, Martin Scorsese]</td>\n",
       "      <td>[Ray Liotta, Robert De Niro, Joe Pesci]</td>\n",
       "      <td>8.7</td>\n",
       "      <td>$25,000,000</td>\n",
       "      <td>46,836,394</td>\n",
       "      <td>194</td>\n",
       "      <td>1156922</td>\n",
       "      <td>1.5K</td>\n",
       "      <td>163</td>\n",
       "      <td>90.0</td>\n",
       "      <td>Won 1 Oscar</td>\n",
       "      <td>/title/tt0099685/</td>\n",
       "    </tr>\n",
       "    <tr>\n",
       "      <th>2</th>\n",
       "      <td>3.</td>\n",
       "      <td>tt0110912</td>\n",
       "      <td>Pulp Fiction</td>\n",
       "      <td>1994</td>\n",
       "      <td>R</td>\n",
       "      <td>[2,  , hours,  , 34,  , minutes]</td>\n",
       "      <td>[Crime, Drama]</td>\n",
       "      <td>[Quentin Tarantino]</td>\n",
       "      <td>[Roger Avary, Quentin Tarantino]</td>\n",
       "      <td>[Samuel L. Jackson, Uma Thurman, John Travolta]</td>\n",
       "      <td>8.9</td>\n",
       "      <td>$8,000,000</td>\n",
       "      <td>107,928,762</td>\n",
       "      <td>115</td>\n",
       "      <td>2043441</td>\n",
       "      <td>3.5K</td>\n",
       "      <td>306</td>\n",
       "      <td>94.0</td>\n",
       "      <td>Won 1 Oscar</td>\n",
       "      <td>/title/tt0110912/</td>\n",
       "    </tr>\n",
       "    <tr>\n",
       "      <th>3</th>\n",
       "      <td>4.</td>\n",
       "      <td>tt0114814</td>\n",
       "      <td>The Usual Suspects</td>\n",
       "      <td>1995</td>\n",
       "      <td>R</td>\n",
       "      <td>[1,  , hour,  , 46,  , minutes]</td>\n",
       "      <td>[Crime, Drama, Mystery]</td>\n",
       "      <td>[Bryan Singer]</td>\n",
       "      <td>[Christopher McQuarrie]</td>\n",
       "      <td>[Chazz Palminteri, Kevin Spacey, Gabriel Byrne]</td>\n",
       "      <td>8.5</td>\n",
       "      <td>$6,000,000</td>\n",
       "      <td>23,341,568</td>\n",
       "      <td>425</td>\n",
       "      <td>1083363</td>\n",
       "      <td>1.4K</td>\n",
       "      <td>154</td>\n",
       "      <td>77.0</td>\n",
       "      <td>Won 2 Oscars</td>\n",
       "      <td>/title/tt0114814/</td>\n",
       "    </tr>\n",
       "    <tr>\n",
       "      <th>4</th>\n",
       "      <td>5.</td>\n",
       "      <td>tt0078788</td>\n",
       "      <td>Apocalypse Now</td>\n",
       "      <td>1979</td>\n",
       "      <td>R</td>\n",
       "      <td>[2,  , hours,  , 27,  , minutes]</td>\n",
       "      <td>[Drama, Mystery, War]</td>\n",
       "      <td>[Francis Ford Coppola]</td>\n",
       "      <td>[Michael Herr, Francis Ford Coppola, John Milius]</td>\n",
       "      <td>[Martin Sheen, Marlon Brando, Robert Duvall]</td>\n",
       "      <td>8.5</td>\n",
       "      <td>$31,500,000</td>\n",
       "      <td>83,471,511</td>\n",
       "      <td>307</td>\n",
       "      <td>666884</td>\n",
       "      <td>1.3K</td>\n",
       "      <td>302</td>\n",
       "      <td>94.0</td>\n",
       "      <td>Won 2 Oscars</td>\n",
       "      <td>/title/tt0078788/</td>\n",
       "    </tr>\n",
       "  </tbody>\n",
       "</table>\n",
       "</div>"
      ],
      "text/plain": [
       "  STT         ID                Name  Published Year Rated  \\\n",
       "0  1.  tt0068646       The Godfather            1972     R   \n",
       "1  2.  tt0099685          Goodfellas            1990     R   \n",
       "2  3.  tt0110912        Pulp Fiction            1994     R   \n",
       "3  4.  tt0114814  The Usual Suspects            1995     R   \n",
       "4  5.  tt0078788      Apocalypse Now            1979     R   \n",
       "\n",
       "                           Duration                     Genres  \\\n",
       "0  [2,  , hours,  , 55,  , minutes]             [Crime, Drama]   \n",
       "1  [2,  , hours,  , 25,  , minutes]  [Biography, Crime, Drama]   \n",
       "2  [2,  , hours,  , 34,  , minutes]             [Crime, Drama]   \n",
       "3   [1,  , hour,  , 46,  , minutes]    [Crime, Drama, Mystery]   \n",
       "4  [2,  , hours,  , 27,  , minutes]      [Drama, Mystery, War]   \n",
       "\n",
       "                 Director                                            Writers  \\\n",
       "0  [Francis Ford Coppola]                 [Francis Ford Coppola, Mario Puzo]   \n",
       "1       [Martin Scorsese]                [Nicholas Pileggi, Martin Scorsese]   \n",
       "2     [Quentin Tarantino]                   [Roger Avary, Quentin Tarantino]   \n",
       "3          [Bryan Singer]                            [Christopher McQuarrie]   \n",
       "4  [Francis Ford Coppola]  [Michael Herr, Francis Ford Coppola, John Milius]   \n",
       "\n",
       "                                             Stars  IMDb RATING  \\\n",
       "0           [Al Pacino, Marlon Brando, James Caan]          9.2   \n",
       "1          [Ray Liotta, Robert De Niro, Joe Pesci]          8.7   \n",
       "2  [Samuel L. Jackson, Uma Thurman, John Travolta]          8.9   \n",
       "3  [Chazz Palminteri, Kevin Spacey, Gabriel Byrne]          8.5   \n",
       "4     [Martin Sheen, Marlon Brando, Robert Duvall]          8.5   \n",
       "\n",
       "  Budget (estimated)        Gross Popularity    Votes User reviews  \\\n",
       "0        $6,000,000   134,966,411         92  1849463         5.2K   \n",
       "1       $25,000,000    46,836,394        194  1156922         1.5K   \n",
       "2        $8,000,000   107,928,762        115  2043441         3.5K   \n",
       "3        $6,000,000    23,341,568        425  1083363         1.4K   \n",
       "4       $31,500,000    83,471,511        307   666884         1.3K   \n",
       "\n",
       "  Critic reviews  Meta score          Wins                URL  \n",
       "0            193       100.0  Won 3 Oscars  /title/tt0068646/  \n",
       "1            163        90.0   Won 1 Oscar  /title/tt0099685/  \n",
       "2            306        94.0   Won 1 Oscar  /title/tt0110912/  \n",
       "3            154        77.0  Won 2 Oscars  /title/tt0114814/  \n",
       "4            302        94.0  Won 2 Oscars  /title/tt0078788/  "
      ]
     },
     "execution_count": 8,
     "metadata": {},
     "output_type": "execute_result"
    }
   ],
   "source": [
    "film_info_df.head()"
   ]
  },
  {
   "cell_type": "code",
   "execution_count": null,
   "metadata": {},
   "outputs": [],
   "source": [
    "film_info_df[film_info_df.Popularity.isnull()]"
   ]
  },
  {
   "cell_type": "markdown",
   "metadata": {},
   "source": [
    "<h4>2. Bắt đầu khám phá dữ liệu</h4>"
   ]
  },
  {
   "cell_type": "markdown",
   "metadata": {},
   "source": [
    "- <h5>Kiểm tra xem có dữ liệu trùng nhau không (<em>Ở đây ID mang tính định danh cho từng phim, ta sẽ kiểm tra xem thử có ID phim nào trùng nhau không</em>)</h5>"
   ]
  },
  {
   "cell_type": "code",
   "execution_count": 10,
   "metadata": {},
   "outputs": [],
   "source": [
    "check_duplucate=set(film_info_df.ID.duplicated())\n",
    "if True in check_duplucate:\n",
    "    have_duplicated_rows = True\n",
    "else:\n",
    "    have_duplicated_rows = False"
   ]
  },
  {
   "cell_type": "code",
   "execution_count": 11,
   "metadata": {},
   "outputs": [],
   "source": [
    "# TEST\n",
    "assert have_duplicated_rows == False"
   ]
  },
  {
   "cell_type": "markdown",
   "metadata": {},
   "source": [
    "<h4> Ý nghĩa mỗi dòng:</h4>\n",
    "\n",
    "- Là thông tin chi tiết của các phim trong [top 1000 phim hay nhất mọi thời đại](https://www.imdb.com/list/ls006266261/), được [IMDb](https://www.imdb.com/?ref_=nv_home)  tổng hợp.\n",
    "\n",
    "\n",
    "<h4>Ý nghĩa mỗi cột:</h4>\n",
    "\n",
    "- Top: thể hiện vị thứ của phim trong danh sách\n",
    "- ID: là duy nhất và mang tính định danh cho phim\n",
    "- Name: tên của phim\n",
    "- Published Year: Năm đầu tiên ra mắt phim\n",
    "- Rated: \n",
    "- Duration: Thời gian phim\n",
    "- Genres: Thể loại mà phim thuộc về\n",
    "- Director: Đạo diễn sản xuất phim\n",
    "- Writers: \n",
    "- Stars: Diễn viên nổi tiếng tham gia(ở đây nhóm chỉ lấy 1 vài người)\n",
    "- IMDb RATING: Điểm đánh giá của IMDb về phim\n",
    "- Budget (estimated): Kinh phí thực hiện phim (ước tính)\n",
    "- Gross: Doanh thu của phim\n",
    "- Popularity: Xếp hạng tổng quát\n",
    "- Votes: Số lượt bình chọn\n",
    "- User reviews: Số lượng nhận xét của người xem\n",
    "- Critic reviews: Số lượng nhận xét của nhà phê bình\n",
    "- Meta score:\n",
    "- Wins: Giải mà phim đạt được trong các cuộc thi\n",
    "- URL: địa chỉ truy cập vào trang web mô tả chi tiết của phim\n",
    "- Votes: số lượt bình chọn cho phim\n",
    "- Gross: Thu nhập của phim tính đến thời điểm hiện tại\n"
   ]
  },
  {
   "cell_type": "markdown",
   "metadata": {},
   "source": [
    "<h4>Kiểm tra xem mỗi cột hiện đang có kiểu dữ liệu gì?</h4>"
   ]
  },
  {
   "cell_type": "code",
   "execution_count": 22,
   "metadata": {},
   "outputs": [],
   "source": [
    "# YOUR CODE HERE"
   ]
  },
  {
   "cell_type": "markdown",
   "metadata": {},
   "source": [
    "<h4>Khoảng biểu diễn của kiểu dữ liệu đó như thế nào?</h4>"
   ]
  },
  {
   "cell_type": "code",
   "execution_count": 23,
   "metadata": {},
   "outputs": [],
   "source": [
    "# YOUR CODE HERE"
   ]
  },
  {
   "cell_type": "markdown",
   "metadata": {},
   "source": [
    "<h4>Có cột nào có kiểu dữ liệu chưa phù hợp để có thể xử lý tiếp hay không?</h4>"
   ]
  },
  {
   "cell_type": "code",
   "execution_count": 24,
   "metadata": {},
   "outputs": [],
   "source": [
    "# YOUR CODE HERE"
   ]
  },
  {
   "cell_type": "markdown",
   "metadata": {},
   "source": [
    "<h4>Với mỗi cột, dữ liệu phân bố như thế nào?</h4>"
   ]
  },
  {
   "attachments": {},
   "cell_type": "markdown",
   "metadata": {},
   "source": [
    "Thực hiện chuyển dối cột Duration về dạng float\n",
    "\n",
    "vd: [\"2\", \"h\", \" \", \"55\", \"m\"] -> 175 "
   ]
  },
  {
   "cell_type": "code",
   "execution_count": 12,
   "metadata": {},
   "outputs": [],
   "source": [
    "def transform_duration(duration):\n",
    "    if (len(duration) == 3):\n",
    "        tmp_dur = duration[0]\n",
    "        tmp_dur = float(tmp_dur) * 60\n",
    "        return tmp_dur\n",
    "    elif (len(duration) == 7):\n",
    "        tmp_dur1 = duration[0] \n",
    "        tmp_dur1 = float(tmp_dur1) * 60\n",
    "\n",
    "        tmp_dur2 = duration[4] \n",
    "        tmp_dur2 = float(tmp_dur2)\n",
    "        tmp_dur = tmp_dur1 + tmp_dur2\n",
    "        return tmp_dur    "
   ]
  },
  {
   "cell_type": "code",
   "execution_count": 13,
   "metadata": {},
   "outputs": [],
   "source": [
    "film_info_df['Duration'] = film_info_df['Duration'].apply(transform_duration)"
   ]
  },
  {
   "cell_type": "code",
   "execution_count": 14,
   "metadata": {},
   "outputs": [],
   "source": [
    "# TEST\n",
    "assert film_info_df['Duration'].dtype in [np.float32, np.float64]"
   ]
  },
  {
   "attachments": {},
   "cell_type": "markdown",
   "metadata": {},
   "source": [
    "Thực hiện chuyển đổi cột Budget (estimated) về dạng float \n",
    "\n",
    "vd: '$6,000,000' -> 6000000"
   ]
  },
  {
   "cell_type": "code",
   "execution_count": 15,
   "metadata": {},
   "outputs": [],
   "source": [
    "def exchange_rate(currency):\n",
    "    currency = str(currency)\n",
    "    l = len(currency)\n",
    "    if currency == 'None':\n",
    "        bbudget = 0\n",
    "        tmp_cur = '0'\n",
    "    elif currency[0] == '$':\n",
    "        bbudget = 1\n",
    "        tmp_cur = currency[1:l]\n",
    "    elif currency[0] == '£':\n",
    "        bbudget = 1.22\n",
    "        tmp_cur = currency[1:l]\n",
    "    elif currency[0] == '€':\n",
    "        bbudget = 1.05\n",
    "        tmp_cur = currency[1:l]\n",
    "    elif currency[0] == '¥':\n",
    "        bbudget = 0.0073\n",
    "        tmp_cur = currency[1:l]\n",
    "    elif currency[0] == '₹':\n",
    "        bbudget = 0.012\n",
    "        tmp_cur = currency[1:l]\n",
    "    elif currency[0:2] == 'R$':\n",
    "        bbudget = 0.19\n",
    "        tmp_cur = currency[2:l]\n",
    "    elif currency[0:2] == 'A$':\n",
    "        bbudget = 0.68\n",
    "        tmp_cur = currency[2:l]\n",
    "    elif currency[0:3] == 'CA$':\n",
    "        bbudget = 0.74\n",
    "        tmp_cur = currency[3:l]\n",
    "    else:\n",
    "        currency = str(currency)\n",
    "        tmp_currency = currency.split()\n",
    "        if tmp_currency[0] == 'FRF':\n",
    "            bbudget = 0.161\n",
    "        elif tmp_currency[0] == 'DEM':\n",
    "            bbudget = 0.54\n",
    "        elif tmp_currency[0] == 'NOK':\n",
    "            bbudget = 0.1\n",
    "        elif tmp_currency[0] == 'MVR':\n",
    "            bbudget = 0.065\n",
    "        tmp_cur = currency[4: l]\n",
    "    tmp_cur = tmp_cur.replace(' ', '')\n",
    "    tmp_cur = tmp_cur.replace(',', '')\n",
    "    tmp_cur = float(tmp_cur)\n",
    "    tmp_cur = tmp_cur*bbudget\n",
    "    return tmp_cur"
   ]
  },
  {
   "cell_type": "code",
   "execution_count": 16,
   "metadata": {},
   "outputs": [],
   "source": [
    "film_info_df[\"Budget (estimated)\"] = film_info_df[\"Budget (estimated)\"].apply(exchange_rate)"
   ]
  },
  {
   "cell_type": "code",
   "execution_count": 17,
   "metadata": {},
   "outputs": [],
   "source": [
    "# TEST\n",
    "assert film_info_df['Budget (estimated)'].to_list()[:5] == [6000000.0, 25000000.0, 8000000.0, 6000000.0, 31500000.0]\n",
    "assert film_info_df['Budget (estimated)'].to_list()[-5:] == [54000000.0, 25000000.0, 65000000.0, 8500000.0, 110000000.0]"
   ]
  },
  {
   "attachments": {},
   "cell_type": "markdown",
   "metadata": {},
   "source": [
    "Thực hiện chuyển đổi cột Gross về dạng float "
   ]
  },
  {
   "cell_type": "code",
   "execution_count": 18,
   "metadata": {},
   "outputs": [],
   "source": [
    "def Gross_to_float(col_df):\n",
    "    col_convert = []\n",
    "    for i in film_info_df['Gross']:\n",
    "        if (str(i) != 'None'):\n",
    "            gross = str(i)\n",
    "            # gross = gross.replace(' ', '')\n",
    "            gross = gross.replace(',', '')\n",
    "            gross = float(gross)\n",
    "            col_convert.append(gross)\n",
    "        else:\n",
    "            col_convert.append(0.0)\n",
    "    film_info_df['Gross'] = col_convert\n",
    "\n",
    "Gross_to_float(film_info_df['Gross'])\n"
   ]
  },
  {
   "cell_type": "code",
   "execution_count": 19,
   "metadata": {},
   "outputs": [],
   "source": [
    "# TEST\n",
    "assert film_info_df['Gross'].to_list()[:5] == [134966411.0, 46836394.0, 107928762.0, 23341568.0, 83471511.0]\n",
    "assert film_info_df['Gross'].to_list()[-5:] == [82348319.0, 40903593.0, 55691208.0, 32222567.0, 324591735.0]"
   ]
  },
  {
   "attachments": {},
   "cell_type": "markdown",
   "metadata": {},
   "source": [
    "Thực hiện chuyển đổi cột Popularity về dạng int "
   ]
  },
  {
   "cell_type": "code",
   "execution_count": 20,
   "metadata": {},
   "outputs": [],
   "source": [
    "def Popularity_to_int(col_df):\n",
    "    col_convert = []\n",
    "    for i in film_info_df['Popularity']:\n",
    "        if (str(i) != 'None'):\n",
    "            popularity = str(i)\n",
    "            popularity = popularity.replace(',', '')\n",
    "            popularity = int(popularity)\n",
    "            col_convert.append(popularity)\n",
    "        else:\n",
    "            col_convert.append(0)\n",
    "    film_info_df['Popularity'] = col_convert\n",
    "\n",
    "Popularity_to_int(film_info_df['Popularity'])\n"
   ]
  },
  {
   "cell_type": "code",
   "execution_count": 21,
   "metadata": {},
   "outputs": [],
   "source": [
    "# TEST\n",
    "assert film_info_df['Popularity'].dtype in [np.int32, np.int64]"
   ]
  },
  {
   "attachments": {},
   "cell_type": "markdown",
   "metadata": {},
   "source": [
    "Thực hiện chuyển đổi cột User reviews về dạng float "
   ]
  },
  {
   "cell_type": "code",
   "execution_count": 22,
   "metadata": {},
   "outputs": [],
   "source": [
    "def User_reviews_to_float(col_df):\n",
    "    col_convert = []\n",
    "    for i in film_info_df['User reviews']:\n",
    "        if (str(i) != 'None'):\n",
    "            Usr = str(i)\n",
    "            if Usr[-1] == 'K':\n",
    "                Usr = Usr.replace('K', '')\n",
    "                Usr = float(Usr) * 1000\n",
    "                col_convert.append(Usr)\n",
    "            else:\n",
    "                col_convert.append(float(Usr))\n",
    "        else:\n",
    "            col_convert.append(0.0)\n",
    "    film_info_df['User reviews'] = col_convert\n",
    "\n",
    "User_reviews_to_float(film_info_df['User reviews'])"
   ]
  },
  {
   "cell_type": "code",
   "execution_count": 23,
   "metadata": {},
   "outputs": [],
   "source": [
    "# TEST\n",
    "assert film_info_df['User reviews'].to_list()[:5] == [5200.0, 1500.0, 3500.0, 1400.0, 1300.0]\n",
    "assert film_info_df['User reviews'].to_list()[-5:] == [613.0, 524.0, 1700.0, 486.0, 1400.0]"
   ]
  },
  {
   "attachments": {},
   "cell_type": "markdown",
   "metadata": {},
   "source": [
    "Thực hiện chuyển đổi cột Critic reviews về dạng float "
   ]
  },
  {
   "cell_type": "code",
   "execution_count": 24,
   "metadata": {},
   "outputs": [],
   "source": [
    "def Critic_reviews_to_float(col_df):\n",
    "    col_convert = []\n",
    "    for i in film_info_df['Critic reviews']:\n",
    "        if (str(i) != 'None'):\n",
    "            Crr = str(i)        \n",
    "            if Crr[-1] == 'K':\n",
    "                Crr = Crr.replace('K', '')\n",
    "                Crr = float(Crr) * 1000\n",
    "            else:\n",
    "                Crr = float(Crr)\n",
    "            col_convert.append(Crr)\n",
    "        else:\n",
    "            col_convert.append(0.0)\n",
    "    film_info_df['Critic reviews'] = col_convert\n",
    "\n",
    "Critic_reviews_to_float(film_info_df['Critic reviews'])"
   ]
  },
  {
   "cell_type": "code",
   "execution_count": 25,
   "metadata": {},
   "outputs": [],
   "source": [
    "# TEST\n",
    "assert film_info_df['Critic reviews'].to_list()[:5] == [193.0, 163.0, 306.0, 154.0, 302.0]\n",
    "assert film_info_df['Critic reviews'].to_list()[-5:] == [221.0, 96.0, 284.0, 174.0, 539.0]"
   ]
  },
  {
   "attachments": {},
   "cell_type": "markdown",
   "metadata": {},
   "source": [
    "### Với mỗi cột có kiểu dữ liệu dạng số, các giá trị được phân bố như thế nào?"
   ]
  },
  {
   "cell_type": "code",
   "execution_count": 26,
   "metadata": {},
   "outputs": [
    {
     "name": "stdout",
     "output_type": "stream",
     "text": [
      "<class 'pandas.core.frame.DataFrame'>\n",
      "Int64Index: 1000 entries, 0 to 999\n",
      "Data columns (total 20 columns):\n",
      " #   Column              Non-Null Count  Dtype  \n",
      "---  ------              --------------  -----  \n",
      " 0   STT                 1000 non-null   object \n",
      " 1   ID                  1000 non-null   object \n",
      " 2   Name                1000 non-null   object \n",
      " 3   Published Year      1000 non-null   int64  \n",
      " 4   Rated               997 non-null    object \n",
      " 5   Duration            1000 non-null   float64\n",
      " 6   Genres              1000 non-null   object \n",
      " 7   Director            1000 non-null   object \n",
      " 8   Writers             1000 non-null   object \n",
      " 9   Stars               1000 non-null   object \n",
      " 10  IMDb RATING         1000 non-null   float64\n",
      " 11  Budget (estimated)  1000 non-null   float64\n",
      " 12  Gross               1000 non-null   float64\n",
      " 13  Popularity          1000 non-null   int64  \n",
      " 14  Votes               1000 non-null   int64  \n",
      " 15  User reviews        1000 non-null   float64\n",
      " 16  Critic reviews      1000 non-null   float64\n",
      " 17  Meta score          963 non-null    float64\n",
      " 18  Wins                984 non-null    object \n",
      " 19  URL                 1000 non-null   object \n",
      "dtypes: float64(7), int64(3), object(10)\n",
      "memory usage: 164.1+ KB\n"
     ]
    }
   ],
   "source": [
    "film_info_df.info()"
   ]
  },
  {
   "cell_type": "code",
   "execution_count": 27,
   "metadata": {},
   "outputs": [],
   "source": [
    "# YOUR CODE HERE\n",
    "col = [] \n",
    "for i in film_info_df.columns: \n",
    "    if film_info_df[i].dtype in [np.float32, np.float64] or film_info_df[i].dtype in [np.int32, np.int64]:\n",
    "        col.append([])\n",
    "\n",
    "def get_median(median, index, l, r):\n",
    "    ll = r - l\n",
    "    if ll % 2 != 0:\n",
    "        return(median[index + ll//2])\n",
    "    else:\n",
    "        return((median[index + ll//2 - 1] + median[index + ll//2]) / 2)\n",
    "\n",
    "len_col = len(film_info_df[\"Name\"])\n",
    "\n",
    "columee = []  \n",
    "count = -1\n",
    "for i in film_info_df.columns:\n",
    "    missing_ratio = 0\n",
    "    median = []\n",
    "    minn = 1000000000\n",
    "    maxx = 0\n",
    "    if film_info_df[i].dtype in [np.float32, np.float64] or film_info_df[i].dtype in [np.int32, np.int64]:\n",
    "        columee.append(i)\n",
    "        count += 1\n",
    "        for j in film_info_df[i]: \n",
    "            if (str(j) == 'nan'):\n",
    "                missing_ratio += 1\n",
    "            if minn > j :\n",
    "                minn = j\n",
    "            if (str(j) != 'nan'):\n",
    "                median.append(j)\n",
    "            if maxx < j :\n",
    "                maxx = j\n",
    "\n",
    "        col[count].append(round(missing_ratio*100 / len_col, 1))\n",
    "        col[count].append(minn)\n",
    "\n",
    "        median = sorted(median)\n",
    "        ll = len(median) \n",
    "\n",
    "        mid = (0 + ll)//2\n",
    "        if ll % 2 != 0 : \n",
    "            col[count].append(get_median(median, 0, 0, int(mid)))\n",
    "        else:\n",
    "            col[count].append(get_median(median, 0, 0, int(mid)))\n",
    "\n",
    "        ll = len(median)\n",
    "        if ll % 2 != 0:\n",
    "            col[count].append(median[ll//2])\n",
    "        else:\n",
    "            col[count].append((median[ll//2 - 1] + median[ll//2]) / 2)\n",
    "\n",
    "        if ll % 2 != 0 : \n",
    "            col[count].append(get_median(median, int(mid) + 1, int(mid) + 1, int(ll) ))\n",
    "        else:\n",
    "            col[count].append(get_median(median, int(mid), int(mid), int(ll) ))\n",
    "\n",
    "        col[count].append(maxx)\n",
    "        \n",
    " \n",
    "num_col_info_df = pd.DataFrame()\n",
    "indexx = [\"missing_ratio\", \"min\", \"lower_quartile\", \"median\", \"upper_quartile\", \"max\"]\n",
    "num_col_info_df['indexx'] = indexx\n",
    "num_col_info_df = num_col_info_df.set_index('indexx')\n",
    "\n",
    "index_columee = 0\n",
    "for i in columee:\n",
    "    num_col_info_df[i] = col[index_columee]\n",
    "    index_columee += 1"
   ]
  },
  {
   "cell_type": "code",
   "execution_count": 28,
   "metadata": {},
   "outputs": [
    {
     "data": {
      "text/html": [
       "<div>\n",
       "<style scoped>\n",
       "    .dataframe tbody tr th:only-of-type {\n",
       "        vertical-align: middle;\n",
       "    }\n",
       "\n",
       "    .dataframe tbody tr th {\n",
       "        vertical-align: top;\n",
       "    }\n",
       "\n",
       "    .dataframe thead th {\n",
       "        text-align: right;\n",
       "    }\n",
       "</style>\n",
       "<table border=\"1\" class=\"dataframe\">\n",
       "  <thead>\n",
       "    <tr style=\"text-align: right;\">\n",
       "      <th></th>\n",
       "      <th>Published Year</th>\n",
       "      <th>Duration</th>\n",
       "      <th>IMDb RATING</th>\n",
       "      <th>Budget (estimated)</th>\n",
       "      <th>Gross</th>\n",
       "      <th>Popularity</th>\n",
       "      <th>Votes</th>\n",
       "      <th>User reviews</th>\n",
       "      <th>Critic reviews</th>\n",
       "      <th>Meta score</th>\n",
       "    </tr>\n",
       "    <tr>\n",
       "      <th>indexx</th>\n",
       "      <th></th>\n",
       "      <th></th>\n",
       "      <th></th>\n",
       "      <th></th>\n",
       "      <th></th>\n",
       "      <th></th>\n",
       "      <th></th>\n",
       "      <th></th>\n",
       "      <th></th>\n",
       "      <th></th>\n",
       "    </tr>\n",
       "  </thead>\n",
       "  <tbody>\n",
       "    <tr>\n",
       "      <th>missing_ratio</th>\n",
       "      <td>0.0</td>\n",
       "      <td>0.0</td>\n",
       "      <td>0.0</td>\n",
       "      <td>0.0</td>\n",
       "      <td>0.0</td>\n",
       "      <td>0.0</td>\n",
       "      <td>0.0</td>\n",
       "      <td>0.0</td>\n",
       "      <td>0.0</td>\n",
       "      <td>3.7</td>\n",
       "    </tr>\n",
       "    <tr>\n",
       "      <th>min</th>\n",
       "      <td>1933.0</td>\n",
       "      <td>70.0</td>\n",
       "      <td>5.3</td>\n",
       "      <td>0.0</td>\n",
       "      <td>0.0</td>\n",
       "      <td>0.0</td>\n",
       "      <td>1503.0</td>\n",
       "      <td>7.0</td>\n",
       "      <td>14.0</td>\n",
       "      <td>31.0</td>\n",
       "    </tr>\n",
       "    <tr>\n",
       "      <th>lower_quartile</th>\n",
       "      <td>1988.0</td>\n",
       "      <td>100.0</td>\n",
       "      <td>7.2</td>\n",
       "      <td>2600000.0</td>\n",
       "      <td>3948784.5</td>\n",
       "      <td>220.5</td>\n",
       "      <td>76670.0</td>\n",
       "      <td>254.0</td>\n",
       "      <td>114.5</td>\n",
       "      <td>66.0</td>\n",
       "    </tr>\n",
       "    <tr>\n",
       "      <th>median</th>\n",
       "      <td>2000.0</td>\n",
       "      <td>113.0</td>\n",
       "      <td>7.6</td>\n",
       "      <td>13000000.0</td>\n",
       "      <td>27772722.5</td>\n",
       "      <td>996.5</td>\n",
       "      <td>188223.0</td>\n",
       "      <td>487.0</td>\n",
       "      <td>174.5</td>\n",
       "      <td>75.0</td>\n",
       "    </tr>\n",
       "    <tr>\n",
       "      <th>upper_quartile</th>\n",
       "      <td>2009.0</td>\n",
       "      <td>128.0</td>\n",
       "      <td>7.9</td>\n",
       "      <td>35000000.0</td>\n",
       "      <td>88572366.0</td>\n",
       "      <td>2162.5</td>\n",
       "      <td>410885.0</td>\n",
       "      <td>924.5</td>\n",
       "      <td>285.5</td>\n",
       "      <td>83.0</td>\n",
       "    </tr>\n",
       "    <tr>\n",
       "      <th>max</th>\n",
       "      <td>2020.0</td>\n",
       "      <td>334.0</td>\n",
       "      <td>9.3</td>\n",
       "      <td>321000000.0</td>\n",
       "      <td>936662225.0</td>\n",
       "      <td>4980.0</td>\n",
       "      <td>2668718.0</td>\n",
       "      <td>10500.0</td>\n",
       "      <td>1000.0</td>\n",
       "      <td>100.0</td>\n",
       "    </tr>\n",
       "  </tbody>\n",
       "</table>\n",
       "</div>"
      ],
      "text/plain": [
       "                Published Year  Duration  IMDb RATING  Budget (estimated)  \\\n",
       "indexx                                                                      \n",
       "missing_ratio              0.0       0.0          0.0                 0.0   \n",
       "min                     1933.0      70.0          5.3                 0.0   \n",
       "lower_quartile          1988.0     100.0          7.2           2600000.0   \n",
       "median                  2000.0     113.0          7.6          13000000.0   \n",
       "upper_quartile          2009.0     128.0          7.9          35000000.0   \n",
       "max                     2020.0     334.0          9.3         321000000.0   \n",
       "\n",
       "                      Gross  Popularity      Votes  User reviews  \\\n",
       "indexx                                                             \n",
       "missing_ratio           0.0         0.0        0.0           0.0   \n",
       "min                     0.0         0.0     1503.0           7.0   \n",
       "lower_quartile    3948784.5       220.5    76670.0         254.0   \n",
       "median           27772722.5       996.5   188223.0         487.0   \n",
       "upper_quartile   88572366.0      2162.5   410885.0         924.5   \n",
       "max             936662225.0      4980.0  2668718.0       10500.0   \n",
       "\n",
       "                Critic reviews  Meta score  \n",
       "indexx                                      \n",
       "missing_ratio              0.0         3.7  \n",
       "min                       14.0        31.0  \n",
       "lower_quartile           114.5        66.0  \n",
       "median                   174.5        75.0  \n",
       "upper_quartile           285.5        83.0  \n",
       "max                     1000.0       100.0  "
      ]
     },
     "execution_count": 28,
     "metadata": {},
     "output_type": "execute_result"
    }
   ],
   "source": [
    "num_col_info_df"
   ]
  },
  {
   "attachments": {},
   "cell_type": "markdown",
   "metadata": {},
   "source": [
    "### Với mỗi cột có kiểu dữ liệu không phải dạng số, các giá trị được phân bố như thế nào?"
   ]
  },
  {
   "cell_type": "code",
   "execution_count": 29,
   "metadata": {},
   "outputs": [],
   "source": [
    "cols_film = ['Rated', 'Wins', 'Genres', 'Director', 'Writers', 'Stars']\n",
    "\n",
    "# Các cột ứng với câu hỏi khảo sát multichoice\n",
    "multichoice_cols = [ 'Genres', 'Director', 'Writers', 'Stars' ]"
   ]
  },
  {
   "cell_type": "code",
   "execution_count": 30,
   "metadata": {},
   "outputs": [],
   "source": [
    "pd.set_option('display.max_colwidth', 100) # Để dễ nhìn\n",
    "pd.set_option('display.max_columns', None) # Để dễ nhìn\n",
    "col = [] \n",
    "\n",
    "for i in film_info_df.columns: \n",
    "    if i in cols_film:\n",
    "        col.append([])\n",
    "\n",
    "len_col = len(film_info_df['Genres'])\n",
    "count = -1\n",
    "used = []\n",
    "columee = []\n",
    "for i in film_info_df.columns:\n",
    "    used.clear()\n",
    "    missing_ratio = 0\n",
    "    num_values = 0\n",
    "    if i in cols_film:\n",
    "        columee.append(i)\n",
    "        count += 1\n",
    "        for j in film_info_df[i]: \n",
    "            if (str(j) == 'None'):\n",
    "                missing_ratio += 1\n",
    "\n",
    "        col[count].append(round(missing_ratio*100 / len_col, 1))\n",
    "\n",
    "        if i not in multichoice_cols:\n",
    "            for j in film_info_df[i]: \n",
    "                if (str(j) != 'None' and j not in used):\n",
    "                    used.append(j)\n",
    "                    num_values += 1\n",
    "            col[count].append(num_values)\n",
    "        else:\n",
    "            for j in film_info_df[i]:\n",
    "                if (str(j) != 'None'):\n",
    "                    for k in j:\n",
    "                        if (k not in used):\n",
    "                            used.append(k)\n",
    "                            num_values += 1\n",
    "            col[count].append(num_values)\n",
    "\n",
    "        dictCol = {}\n",
    "        count_key = 0\n",
    "        if i not in multichoice_cols:\n",
    "            for j in film_info_df[i]: \n",
    "                if (str(j) != 'None' and j not in dictCol):\n",
    "                    dictCol[j] = 1\n",
    "                    count_key += 1\n",
    "                elif str(j) != 'None':\n",
    "                    dictCol[j] = dictCol[j] +1\n",
    "                    count_key += 1\n",
    "        else:\n",
    "            for j in film_info_df[i]: \n",
    "                if (str(j) != 'None'):\n",
    "                    # tmp = j.split(';')\n",
    "                    for k in j:\n",
    "                        if (k not in dictCol):\n",
    "                            dictCol[k] = 1\n",
    "                            count_key += 1\n",
    "                        else:\n",
    "                            dictCol[k] = dictCol[k] +1\n",
    "                            count_key += 1\n",
    "        for j in dictCol:\n",
    "            dictCol[j] = round(dictCol[j]*100 / count_key, 1)\n",
    "\n",
    "        items_sorted = sorted(dictCol.items(),reverse=True, key = lambda x : x[1]) # sắp xếp từ điển giảm dần \n",
    "        dictCol_sort = {}\n",
    "        for i in items_sorted :\n",
    "            dictCol_sort[i[0]] = i[1]\n",
    "\n",
    "        col[count].append(dictCol)        \n",
    "\n",
    "cat_col_info_df = pd.DataFrame()\n",
    "indexx = [\"missing_ratio\", \"num_values\", \"value_ratios\"]\n",
    "cat_col_info_df['indexx'] = indexx\n",
    "cat_col_info_df = cat_col_info_df.set_index('indexx')\n",
    "\n",
    "index_columee = 0\n",
    "for i in columee:\n",
    "    cat_col_info_df[i] = col[index_columee]\n",
    "    index_columee += 1"
   ]
  },
  {
   "cell_type": "code",
   "execution_count": 31,
   "metadata": {},
   "outputs": [
    {
     "data": {
      "text/html": [
       "<div>\n",
       "<style scoped>\n",
       "    .dataframe tbody tr th:only-of-type {\n",
       "        vertical-align: middle;\n",
       "    }\n",
       "\n",
       "    .dataframe tbody tr th {\n",
       "        vertical-align: top;\n",
       "    }\n",
       "\n",
       "    .dataframe thead th {\n",
       "        text-align: right;\n",
       "    }\n",
       "</style>\n",
       "<table border=\"1\" class=\"dataframe\">\n",
       "  <thead>\n",
       "    <tr style=\"text-align: right;\">\n",
       "      <th></th>\n",
       "      <th>Rated</th>\n",
       "      <th>Genres</th>\n",
       "      <th>Director</th>\n",
       "      <th>Writers</th>\n",
       "      <th>Stars</th>\n",
       "      <th>Wins</th>\n",
       "    </tr>\n",
       "    <tr>\n",
       "      <th>indexx</th>\n",
       "      <th></th>\n",
       "      <th></th>\n",
       "      <th></th>\n",
       "      <th></th>\n",
       "      <th></th>\n",
       "      <th></th>\n",
       "    </tr>\n",
       "  </thead>\n",
       "  <tbody>\n",
       "    <tr>\n",
       "      <th>missing_ratio</th>\n",
       "      <td>0.3</td>\n",
       "      <td>0.0</td>\n",
       "      <td>0.0</td>\n",
       "      <td>0.0</td>\n",
       "      <td>0.0</td>\n",
       "      <td>1.6</td>\n",
       "    </tr>\n",
       "    <tr>\n",
       "      <th>num_values</th>\n",
       "      <td>13</td>\n",
       "      <td>22</td>\n",
       "      <td>579</td>\n",
       "      <td>1388</td>\n",
       "      <td>1739</td>\n",
       "      <td>29</td>\n",
       "    </tr>\n",
       "    <tr>\n",
       "      <th>value_ratios</th>\n",
       "      <td>{'R': 57.9, 'PG': 10.7, 'PG-13': 18.0, 'G': 2.5, 'NC-17': 0.8, 'X': 0.3, 'Approved': 1.6, 'Not R...</td>\n",
       "      <td>{'Crime': 11.4, 'Drama': 22.2, 'Biography': 4.1, 'Mystery': 4.5, 'War': 0.9, 'History': 1.3, 'Th...</td>\n",
       "      <td>{'Francis Ford Coppola': 0.5, 'Martin Scorsese': 1.6, 'Quentin Tarantino': 0.8, 'Bryan Singer': ...</td>\n",
       "      <td>{'Francis Ford Coppola': 0.2, 'Mario Puzo': 0.2, 'Nicholas Pileggi': 0.1, 'Martin Scorsese': 0.1...</td>\n",
       "      <td>{'Al Pacino': 0.5, 'Marlon Brando': 0.1, 'James Caan': 0.1, 'Ray Liotta': 0.1, 'Robert De Niro':...</td>\n",
       "      <td>{'Won 3 Oscars': 2.6, 'Won 1 Oscar': 10.8, 'Won 2 Oscars': 4.8, 'Nominated for 1 Oscar': 11.8, '...</td>\n",
       "    </tr>\n",
       "  </tbody>\n",
       "</table>\n",
       "</div>"
      ],
      "text/plain": [
       "                                                                                                             Rated  \\\n",
       "indexx                                                                                                               \n",
       "missing_ratio                                                                                                  0.3   \n",
       "num_values                                                                                                      13   \n",
       "value_ratios   {'R': 57.9, 'PG': 10.7, 'PG-13': 18.0, 'G': 2.5, 'NC-17': 0.8, 'X': 0.3, 'Approved': 1.6, 'Not R...   \n",
       "\n",
       "                                                                                                            Genres  \\\n",
       "indexx                                                                                                               \n",
       "missing_ratio                                                                                                  0.0   \n",
       "num_values                                                                                                      22   \n",
       "value_ratios   {'Crime': 11.4, 'Drama': 22.2, 'Biography': 4.1, 'Mystery': 4.5, 'War': 0.9, 'History': 1.3, 'Th...   \n",
       "\n",
       "                                                                                                          Director  \\\n",
       "indexx                                                                                                               \n",
       "missing_ratio                                                                                                  0.0   \n",
       "num_values                                                                                                     579   \n",
       "value_ratios   {'Francis Ford Coppola': 0.5, 'Martin Scorsese': 1.6, 'Quentin Tarantino': 0.8, 'Bryan Singer': ...   \n",
       "\n",
       "                                                                                                           Writers  \\\n",
       "indexx                                                                                                               \n",
       "missing_ratio                                                                                                  0.0   \n",
       "num_values                                                                                                    1388   \n",
       "value_ratios   {'Francis Ford Coppola': 0.2, 'Mario Puzo': 0.2, 'Nicholas Pileggi': 0.1, 'Martin Scorsese': 0.1...   \n",
       "\n",
       "                                                                                                             Stars  \\\n",
       "indexx                                                                                                               \n",
       "missing_ratio                                                                                                  0.0   \n",
       "num_values                                                                                                    1739   \n",
       "value_ratios   {'Al Pacino': 0.5, 'Marlon Brando': 0.1, 'James Caan': 0.1, 'Ray Liotta': 0.1, 'Robert De Niro':...   \n",
       "\n",
       "                                                                                                              Wins  \n",
       "indexx                                                                                                              \n",
       "missing_ratio                                                                                                  1.6  \n",
       "num_values                                                                                                      29  \n",
       "value_ratios   {'Won 3 Oscars': 2.6, 'Won 1 Oscar': 10.8, 'Won 2 Oscars': 4.8, 'Nominated for 1 Oscar': 11.8, '...  "
      ]
     },
     "execution_count": 31,
     "metadata": {},
     "output_type": "execute_result"
    }
   ],
   "source": [
    "cat_col_info_df"
   ]
  },
  {
   "cell_type": "markdown",
   "metadata": {},
   "source": [
    "---"
   ]
  },
  {
   "cell_type": "markdown",
   "metadata": {},
   "source": [
    "## <font color='orange'> Tiền xử lý </font> ##"
   ]
  },
  {
   "cell_type": "code",
   "execution_count": null,
   "metadata": {},
   "outputs": [],
   "source": [
    "film_info_df.head()"
   ]
  },
  {
   "cell_type": "markdown",
   "metadata": {},
   "source": [
    "- <h5>Ta thấy ở cột STT, Gross đang ở kiểu object, nhưng đúng là ở dạng numberic, ta thực hiện tiền xử lý về đúng kiểu dữ liệu</h5>"
   ]
  },
  {
   "cell_type": "code",
   "execution_count": 33,
   "metadata": {},
   "outputs": [],
   "source": [
    "film_info_df.STT=film_info_df.STT.replace(',','',regex=True).replace('\\.','',regex=True).astype(int)\n",
    "film_info_df.Gross=film_info_df.Gross.replace([\",\",None],['',np.nan],regex=True).astype(float)"
   ]
  },
  {
   "cell_type": "code",
   "execution_count": null,
   "metadata": {},
   "outputs": [],
   "source": [
    "display(film_info_df)"
   ]
  },
  {
   "cell_type": "code",
   "execution_count": null,
   "metadata": {},
   "outputs": [],
   "source": [
    "film_info_df.Rated.value_counts()"
   ]
  },
  {
   "cell_type": "code",
   "execution_count": null,
   "metadata": {},
   "outputs": [],
   "source": [
    "film_info_df[film_info_df['Rated'].isnull()]"
   ]
  },
  {
   "cell_type": "code",
   "execution_count": null,
   "metadata": {},
   "outputs": [],
   "source": [
    "film_info_df.info()"
   ]
  },
  {
   "cell_type": "markdown",
   "metadata": {},
   "source": [
    "---"
   ]
  },
  {
   "cell_type": "markdown",
   "metadata": {},
   "source": [
    "## <font color='orange'> Câu hỏi đặt ra </font> ##"
   ]
  },
  {
   "cell_type": "markdown",
   "metadata": {},
   "source": [
    "<h3>Bài 1:Phân tích trong khoảng 10 năm để tìm ra thể loại phim được ưu chuộng trong mỗi khoảng thời gian và có thể giải thích lí do:\n",
    "Dựa vào việc tương quan giữa cột thể loại (genre) với lần lượt thông tin: doanh thu, lượt yêu thích (truy cập, độ nổi tiếng), điểm được chấm trên các tiêu chí khác nhau (mỗi tiêu chí là một cột).</h3>"
   ]
  },
  {
   "cell_type": "markdown",
   "metadata": {},
   "source": [
    "Bài 1: \n",
    "- Phân tích trong 10 năm để tìm ra thể loại phim được yêu thích trong mỗi khoảng thời gian.\n",
    "- Tương quan giữa các thể loại (genre) với doanh thu, truy cập, độ nổi tiếng, điểm được "
   ]
  },
  {
   "cell_type": "code",
   "execution_count": null,
   "metadata": {},
   "outputs": [],
   "source": [
    "film_info_df.head()"
   ]
  },
  {
   "cell_type": "markdown",
   "metadata": {},
   "source": [
    "- <h5>Kiểm tra xem thử có phim nào không có năm ra mắt không</h5>"
   ]
  },
  {
   "cell_type": "code",
   "execution_count": 39,
   "metadata": {},
   "outputs": [
    {
     "data": {
      "text/plain": [
       "False"
      ]
     },
     "execution_count": 39,
     "metadata": {},
     "output_type": "execute_result"
    }
   ],
   "source": [
    "film_info_df['Published Year'].isnull().any()"
   ]
  },
  {
   "cell_type": "code",
   "execution_count": null,
   "metadata": {},
   "outputs": [],
   "source": [
    "film_info_df['Published Year'].unique()"
   ]
  },
  {
   "cell_type": "markdown",
   "metadata": {},
   "source": [
    "- <h5>Chia khoảng các phim theo cụm 10 năm</h5>"
   ]
  },
  {
   "cell_type": "code",
   "execution_count": 41,
   "metadata": {},
   "outputs": [],
   "source": [
    "def decade(vl):\n",
    "       return int(np.floor(vl/10)*10)\n",
    "\n",
    "film_info_df.insert(4,\"Decade\",film_info_df['Published Year'].apply(decade),True)"
   ]
  },
  {
   "cell_type": "code",
   "execution_count": null,
   "metadata": {},
   "outputs": [],
   "source": [
    "film_info_df.head()"
   ]
  },
  {
   "cell_type": "markdown",
   "metadata": {},
   "source": [
    "- <h5>Cùng vẽ biểu đồ  xem số lượng phim thay đổi thế nào giữa các thập kỉ nào</h5>"
   ]
  },
  {
   "cell_type": "code",
   "execution_count": 43,
   "metadata": {},
   "outputs": [
    {
     "data": {
      "text/plain": [
       "1930      6\n",
       "1940     16\n",
       "1950     19\n",
       "1960     39\n",
       "1970     76\n",
       "1980    124\n",
       "1990    215\n",
       "2000    282\n",
       "2010    222\n",
       "2020      1\n",
       "Name: Decade, dtype: int64"
      ]
     },
     "execution_count": 43,
     "metadata": {},
     "output_type": "execute_result"
    }
   ],
   "source": [
    "film_decade=film_info_df.Decade.value_counts().sort_index()\n",
    "film_decade"
   ]
  },
  {
   "cell_type": "code",
   "execution_count": 44,
   "metadata": {},
   "outputs": [
    {
     "data": {
      "text/html": [
       "<div>\n",
       "<style scoped>\n",
       "    .dataframe tbody tr th:only-of-type {\n",
       "        vertical-align: middle;\n",
       "    }\n",
       "\n",
       "    .dataframe tbody tr th {\n",
       "        vertical-align: top;\n",
       "    }\n",
       "\n",
       "    .dataframe thead th {\n",
       "        text-align: right;\n",
       "    }\n",
       "</style>\n",
       "<table border=\"1\" class=\"dataframe\">\n",
       "  <thead>\n",
       "    <tr style=\"text-align: right;\">\n",
       "      <th></th>\n",
       "      <th>STT</th>\n",
       "      <th>ID</th>\n",
       "      <th>Name</th>\n",
       "      <th>Published Year</th>\n",
       "      <th>Decade</th>\n",
       "      <th>Rated</th>\n",
       "      <th>Duration</th>\n",
       "      <th>Genres</th>\n",
       "      <th>Director</th>\n",
       "      <th>Writers</th>\n",
       "      <th>Stars</th>\n",
       "      <th>IMDb RATING</th>\n",
       "      <th>Budget (estimated)</th>\n",
       "      <th>Gross</th>\n",
       "      <th>Popularity</th>\n",
       "      <th>Votes</th>\n",
       "      <th>User reviews</th>\n",
       "      <th>Critic reviews</th>\n",
       "      <th>Meta score</th>\n",
       "      <th>Wins</th>\n",
       "      <th>URL</th>\n",
       "    </tr>\n",
       "  </thead>\n",
       "  <tbody>\n",
       "    <tr>\n",
       "      <th>774</th>\n",
       "      <td>775</td>\n",
       "      <td>tt6723592</td>\n",
       "      <td>Tenet</td>\n",
       "      <td>2020</td>\n",
       "      <td>2020</td>\n",
       "      <td>PG-13</td>\n",
       "      <td>150.0</td>\n",
       "      <td>[Action, Sci-Fi, Thriller]</td>\n",
       "      <td>[Christopher Nolan]</td>\n",
       "      <td>[Christopher Nolan]</td>\n",
       "      <td>[John David Washington, Robert Pattinson, Elizabeth Debicki]</td>\n",
       "      <td>7.3</td>\n",
       "      <td>205000000.0</td>\n",
       "      <td>58456624.0</td>\n",
       "      <td>242</td>\n",
       "      <td>502061</td>\n",
       "      <td>5500.0</td>\n",
       "      <td>510.0</td>\n",
       "      <td>69.0</td>\n",
       "      <td>Won 1 Oscar</td>\n",
       "      <td>/title/tt6723592/</td>\n",
       "    </tr>\n",
       "  </tbody>\n",
       "</table>\n",
       "</div>"
      ],
      "text/plain": [
       "     STT         ID   Name  Published Year  Decade  Rated  Duration  \\\n",
       "774  775  tt6723592  Tenet            2020    2020  PG-13     150.0   \n",
       "\n",
       "                         Genres             Director              Writers  \\\n",
       "774  [Action, Sci-Fi, Thriller]  [Christopher Nolan]  [Christopher Nolan]   \n",
       "\n",
       "                                                            Stars  \\\n",
       "774  [John David Washington, Robert Pattinson, Elizabeth Debicki]   \n",
       "\n",
       "     IMDb RATING  Budget (estimated)       Gross  Popularity   Votes  \\\n",
       "774          7.3         205000000.0  58456624.0         242  502061   \n",
       "\n",
       "     User reviews  Critic reviews  Meta score         Wins                URL  \n",
       "774        5500.0           510.0        69.0  Won 1 Oscar  /title/tt6723592/  "
      ]
     },
     "execution_count": 44,
     "metadata": {},
     "output_type": "execute_result"
    }
   ],
   "source": [
    "film_info_df[film_info_df.Decade==2020]"
   ]
  },
  {
   "cell_type": "code",
   "execution_count": 45,
   "metadata": {},
   "outputs": [
    {
     "data": {
      "image/png": "[encoded data removed]",
      "text/plain": [
       "<Figure size 1000x500 with 1 Axes>"
      ]
     },
     "metadata": {},
     "output_type": "display_data"
    }
   ],
   "source": [
    "\n",
    "fig =plt.subplots(figsize=(10,5))\n",
    "\n",
    "decade=np.array(film_decade.keys())\n",
    "num_film=np.array(film_decade.values)\n",
    "\n",
    "plt.plot(decade,num_film,marker='o',linestyle='-',linewidth=1,label='số lượng phim')\n",
    "plt.xlabel('Thập kỷ')\n",
    "plt.ylabel('Số lượng')\n",
    "plt.title('Thống kê số lượng phim theo thập kỷ')\n",
    "plt.xticks(decade,size=8)\n",
    "plt.yticks(range(0,1001,100),size=8)\n",
    "plt.legend(loc='upper left')\n",
    "plt.show()"
   ]
  },
  {
   "cell_type": "markdown",
   "metadata": {},
   "source": [
    "<h4>Nhận xét:</h4>\n",
    "\n",
    "- Khi thực hiện đồ án, danh sách tổng hợp cập nhật lần gần nhất là 12/11/2021. Và với tình hình dịch bệnh các năm 2020, 2021 ở trên khắp thế giới, nên ta có thể thấy chỉ có 1 phim [Tenet](https://www.imdb.com/title/tt6723592/) là nằm trong [top 1000 phim](https://www.imdb.com/list/ls006266261/).<br>\n",
    "\n",
    "- Và ta cũng có thể thấy được sự thay đổi rõ rệt về số lượng phim lọt top từ thập niên 1930 đến thập niên 2000 (tăng dần), tuy nhiên có 1 sự sụt giảm vào thập niên 2010 lúc công nghệ làm phim phát triển hơn hắn những thập niên trước (liệu rằng có yếu tố nào tác động đằng sau, chúng ta sẽ cố trả lời nó vào những câu hỏi sau nhé).\n"
   ]
  },
  {
   "cell_type": "markdown",
   "metadata": {},
   "source": [
    "- <h5>Tiếp tục chia ra xem những thể loại nào nhiều nhất nhé</h5>"
   ]
  },
  {
   "cell_type": "code",
   "execution_count": 46,
   "metadata": {},
   "outputs": [
    {
     "data": {
      "text/plain": [
       "array(['Crime', 'Drama', 'Biography', 'Mystery', 'War', 'History',\n",
       "       'Thriller', 'Adventure', 'Comedy', 'Sci-Fi', 'Action', 'Sport',\n",
       "       'Romance', 'Animation', 'Horror', 'Fantasy', 'Western', 'Family',\n",
       "       'Documentary', 'Music', 'Film-Noir', 'Musical'], dtype=object)"
      ]
     },
     "execution_count": 46,
     "metadata": {},
     "output_type": "execute_result"
    }
   ],
   "source": [
    "film_info_df.Genres.explode().unique()"
   ]
  },
  {
   "cell_type": "markdown",
   "metadata": {},
   "source": [
    "\n",
    "<h4>Ở đây, ta thấy hơi lạ sao lại có 2 thể loại Music và Musical, liệu dữ liệu có bị trùng hay gì không?</h4>"
   ]
  },
  {
   "cell_type": "markdown",
   "metadata": {},
   "source": [
    "\n",
    "<h4>Câu trả lời là <b>không</b> nhé:</h4>\n",
    "\n",
    "- Music: thể loại có liên quan đến âm nhạc ví dụ như một câu chuyện về một bản nhạc, hay đại loại như vậy.</br>\n",
    "- Musical: thể loại nhạc kịch, tràn đầy những bản nhạc, kết hợp với những điệu nhảy cuốn hút người xem.</br>\n",
    "\n",
    "[Chi tiết](https://help.imdb.com/article/contribution/titles/genres/GZDRMS6R742JRGAG#)\n"
   ]
  },
  {
   "cell_type": "code",
   "execution_count": 47,
   "metadata": {},
   "outputs": [
    {
     "data": {
      "text/plain": [
       "Drama          573\n",
       "Crime          293\n",
       "Comedy         279\n",
       "Action         254\n",
       "Thriller       191\n",
       "Adventure      181\n",
       "Mystery        117\n",
       "Biography      106\n",
       "Horror          93\n",
       "Romance         92\n",
       "Sci-Fi          91\n",
       "Fantasy         56\n",
       "Documentary     50\n",
       "History         34\n",
       "Animation       34\n",
       "Music           31\n",
       "War             24\n",
       "Sport           23\n",
       "Family          23\n",
       "Western         17\n",
       "Film-Noir        8\n",
       "Musical          6\n",
       "Name: Genres, dtype: int64"
      ]
     },
     "execution_count": 47,
     "metadata": {},
     "output_type": "execute_result"
    }
   ],
   "source": [
    "film_genre=film_info_df.Genres.explode().value_counts()\n",
    "film_genre"
   ]
  },
  {
   "cell_type": "code",
   "execution_count": 48,
   "metadata": {},
   "outputs": [
    {
     "data": {
      "image/png": "[encoded data removed]",
      "text/plain": [
       "<Figure size 2200x500 with 1 Axes>"
      ]
     },
     "metadata": {},
     "output_type": "display_data"
    }
   ],
   "source": [
    "fig =plt.subplots(figsize=(22,5))\n",
    "\n",
    "genre=np.array(film_genre.keys())\n",
    "num_film=np.array(film_genre.values)\n",
    "\n",
    "plt.bar(genre,num_film,width=0.65)\n",
    "plt.xlabel('Thể loại')\n",
    "plt.ylabel('Số lượng')\n",
    "plt.title('Thống kê số lượng phim theo thể loại')\n",
    "plt.xticks(genre,size=8)\n",
    "plt.yticks(range(0,1001,100),size=8)\n",
    "plt.setp(plt.gca().get_xticklabels(), rotation=-45, horizontalalignment='center')\n",
    "plt.show()"
   ]
  },
  {
   "cell_type": "markdown",
   "metadata": {},
   "source": [
    "<h4>Nhận xét:</h4>\n",
    "\n",
    "- Nhìn biểu đồ ta thấy được xu hướng lọt top phim của các phim pha trộn(hoặc tập trung) vào thể loại drama chiếm hơn 1 nửa số lượng phim và cũng là thể loại chiếm số lượng cao nhất. Thể loại được kết hợp nhiều các yếu tố tâm lý xã hội, bi – hài tạo nên một tổng thể mang lại nhiều cảm xúc đan xen cho người xem.<br>\n",
    "- Tiếp đến là các thể loại phổ biến như: phim tội phạm, hài kịch, hành động, giật gân, phiêu lưu: cũng là những thể loại chiếm đa số. Ở đây trừ hài kịch mục đích gây cười, có tính giải trí cao (*điều ai cũng cần*), thì có thể thấy gần như hầu hết đều là những thể loại mạnh mẽ, nhịp độ phim nhanh gây kích thích, hứng thú cho người xem.<br>\n",
    "- Các thể loại còn lại chỉ chiếm từ 0 đến 10% số lượng phim trong danh sách."
   ]
  },
  {
   "cell_type": "code",
   "execution_count": 49,
   "metadata": {},
   "outputs": [
    {
     "data": {
      "text/plain": [
       "Decade  Genres   \n",
       "1930    Adventure     2\n",
       "        Comedy        1\n",
       "        Crime         2\n",
       "        Drama         4\n",
       "        Family        1\n",
       "                     ..\n",
       "2010    Thriller     42\n",
       "        Western       3\n",
       "2020    Action        1\n",
       "        Sci-Fi        1\n",
       "        Thriller      1\n",
       "Length: 160, dtype: int64"
      ]
     },
     "execution_count": 49,
     "metadata": {},
     "output_type": "execute_result"
    }
   ],
   "source": [
    "film_info_df.explode('Genres').value_counts(['Decade','Genres']).sort_index()"
   ]
  },
  {
   "cell_type": "markdown",
   "metadata": {},
   "source": [
    "- <h4>Cùng xem sự tương quan giữa thể loại phim từng thập niên như thế nào nhé(Như ở trên đã đề cập, ta sẽ không xét thập niên 2020)</h4>"
   ]
  },
  {
   "cell_type": "code",
   "execution_count": 50,
   "metadata": {},
   "outputs": [
    {
     "data": {
      "text/html": [
       "<div>\n",
       "<style scoped>\n",
       "    .dataframe tbody tr th:only-of-type {\n",
       "        vertical-align: middle;\n",
       "    }\n",
       "\n",
       "    .dataframe tbody tr th {\n",
       "        vertical-align: top;\n",
       "    }\n",
       "\n",
       "    .dataframe thead th {\n",
       "        text-align: right;\n",
       "    }\n",
       "</style>\n",
       "<table border=\"1\" class=\"dataframe\">\n",
       "  <thead>\n",
       "    <tr style=\"text-align: right;\">\n",
       "      <th></th>\n",
       "      <th>Decade</th>\n",
       "      <th>Genres</th>\n",
       "      <th>0</th>\n",
       "    </tr>\n",
       "  </thead>\n",
       "  <tbody>\n",
       "    <tr>\n",
       "      <th>0</th>\n",
       "      <td>2000</td>\n",
       "      <td>Drama</td>\n",
       "      <td>169</td>\n",
       "    </tr>\n",
       "    <tr>\n",
       "      <th>1</th>\n",
       "      <td>1990</td>\n",
       "      <td>Drama</td>\n",
       "      <td>131</td>\n",
       "    </tr>\n",
       "    <tr>\n",
       "      <th>2</th>\n",
       "      <td>2010</td>\n",
       "      <td>Drama</td>\n",
       "      <td>124</td>\n",
       "    </tr>\n",
       "    <tr>\n",
       "      <th>3</th>\n",
       "      <td>2000</td>\n",
       "      <td>Crime</td>\n",
       "      <td>82</td>\n",
       "    </tr>\n",
       "    <tr>\n",
       "      <th>4</th>\n",
       "      <td>2000</td>\n",
       "      <td>Action</td>\n",
       "      <td>80</td>\n",
       "    </tr>\n",
       "    <tr>\n",
       "      <th>...</th>\n",
       "      <td>...</td>\n",
       "      <td>...</td>\n",
       "      <td>...</td>\n",
       "    </tr>\n",
       "    <tr>\n",
       "      <th>152</th>\n",
       "      <td>1960</td>\n",
       "      <td>Sport</td>\n",
       "      <td>1</td>\n",
       "    </tr>\n",
       "    <tr>\n",
       "      <th>153</th>\n",
       "      <td>1960</td>\n",
       "      <td>Animation</td>\n",
       "      <td>1</td>\n",
       "    </tr>\n",
       "    <tr>\n",
       "      <th>154</th>\n",
       "      <td>1960</td>\n",
       "      <td>Fantasy</td>\n",
       "      <td>1</td>\n",
       "    </tr>\n",
       "    <tr>\n",
       "      <th>155</th>\n",
       "      <td>1960</td>\n",
       "      <td>History</td>\n",
       "      <td>1</td>\n",
       "    </tr>\n",
       "    <tr>\n",
       "      <th>156</th>\n",
       "      <td>1940</td>\n",
       "      <td>War</td>\n",
       "      <td>1</td>\n",
       "    </tr>\n",
       "  </tbody>\n",
       "</table>\n",
       "<p>157 rows × 3 columns</p>\n",
       "</div>"
      ],
      "text/plain": [
       "     Decade     Genres    0\n",
       "0      2000      Drama  169\n",
       "1      1990      Drama  131\n",
       "2      2010      Drama  124\n",
       "3      2000      Crime   82\n",
       "4      2000     Action   80\n",
       "..      ...        ...  ...\n",
       "152    1960      Sport    1\n",
       "153    1960  Animation    1\n",
       "154    1960    Fantasy    1\n",
       "155    1960    History    1\n",
       "156    1940        War    1\n",
       "\n",
       "[157 rows x 3 columns]"
      ]
     },
     "execution_count": 50,
     "metadata": {},
     "output_type": "execute_result"
    }
   ],
   "source": [
    "film_genre_decade=film_info_df[~film_info_df.Decade.isin([2020])].explode('Genres').value_counts(['Decade','Genres']).to_frame().reset_index([0,1])\n",
    "film_genre_decade"
   ]
  },
  {
   "cell_type": "code",
   "execution_count": 51,
   "metadata": {},
   "outputs": [
    {
     "name": "stderr",
     "output_type": "stream",
     "text": [
      "C:\\Users\\ASUS\\AppData\\Local\\Temp\\ipykernel_21408\\472084322.py:1: FutureWarning: In a future version of pandas all arguments of DataFrame.pivot will be keyword-only.\n",
      "  num_film_each_genre=film_genre_decade.pivot('Decade','Genres',0)\n"
     ]
    },
    {
     "data": {
      "text/plain": [
       "<AxesSubplot: title={'center': 'Tương quan giữa sự thay đổi của số lượng thể loại phim theo thập niên'}, xlabel='Thập niên', ylabel='Số lượng'>"
      ]
     },
     "execution_count": 51,
     "metadata": {},
     "output_type": "execute_result"
    },
    {
     "data": {
      "image/png": "[encoded data removed]",
      "text/plain": [
       "<Figure size 2200x1300 with 1 Axes>"
      ]
     },
     "metadata": {},
     "output_type": "display_data"
    }
   ],
   "source": [
    "num_film_each_genre=film_genre_decade.pivot('Decade','Genres',0)\n",
    "num_film_each_genre=num_film_each_genre.sort_index().fillna(0)\n",
    "\n",
    "num_film_each_genre.plot(\n",
    "    figsize=(22,13),\n",
    "    xlabel='Thập niên',\n",
    "    ylabel='Số lượng',\n",
    "    title='Tương quan giữa sự thay đổi của số lượng thể loại phim theo thập niên'\n",
    ")\n"
   ]
  },
  {
   "cell_type": "markdown",
   "metadata": {},
   "source": [
    "<h1>NHẬN XÉT:</h1>"
   ]
  },
  {
   "cell_type": "markdown",
   "metadata": {},
   "source": [
    "- <h4>Ngoài dựa vào số lượng, chúng ta thay thế số lượng thành doanh thu do phim đó mang lại xem sự thay đổi nào không(so sánh trong cùng thập niên, xem như bỏ qua sự chênh lệch tỉ giá trong thập kỉ đó là không lớn)</h4>"
   ]
  },
  {
   "cell_type": "code",
   "execution_count": null,
   "metadata": {},
   "outputs": [],
   "source": []
  },
  {
   "cell_type": "markdown",
   "metadata": {},
   "source": [
    "- <h4>Độ nổi tiếng của phim có liên quan đến thể loại phim đó trong từng thập niên không</h4>"
   ]
  },
  {
   "cell_type": "code",
   "execution_count": null,
   "metadata": {},
   "outputs": [],
   "source": []
  },
  {
   "cell_type": "markdown",
   "metadata": {},
   "source": []
  },
  {
   "cell_type": "markdown",
   "metadata": {},
   "source": [
    "Đưa ra câu hỏi:\n",
    "\n",
    "1:  Phân tích trong khoảng 10 năm để tìm ra thể loại phim được ưu chuộng trong mỗi khoảng thời gian và có thể giải thích lí do:\n",
    "Dựa vào việc tương quan giữa cột thể loại (genre) với lần lượt thông tin: doanh thu, lượt yêu thích (truy cập, độ nổi tiếng), điểm được chấm trên các tiêu chí khác nhau (mỗi tiêu chí là một cột).\n",
    "\n",
    "2:  Phân tích dựa vào Top 5 – Đạo diễn xuất hiện nhiều nhất trong dataset.\n",
    "Lần lượt phân tích, liệu rằng những phim của đạo diễn này sẽ trở thành trend\n",
    "\n",
    "3:  Phân tích dựa vào Top  5 – Diễn viên xuất hiện nhiều nhất trong dataset\n",
    "( Câu 2, 3 phân tích và nhận xét dựa vào câu 1)\n",
    "Lần lượt phân tích, liệu rằng những phim mà diễn viên này tham gia liệu có trở thành trend\n",
    "\n",
    "4: Chia giai đoạn phim ra mỗi 10 năm, trực quan hóa số phim mỗi giai đoạn. giải thích và nhận xét về số liệu phim mỗi giai đoạn lại có sự khác nhau.\n"
   ]
  },
  {
   "cell_type": "code",
   "execution_count": null,
   "metadata": {},
   "outputs": [],
   "source": []
  },
  {
   "attachments": {},
   "cell_type": "markdown",
   "metadata": {},
   "source": [
    "Câu hỏi 5: Quan hệ giữa doanh thu, kinh phí sản xuất và một số vấn đề liên quan về đạo diễn, và diễn viên tham gia, thời gian phim\n",
    "tương quan giữa doanh thu(gross) và kinh phí(budget)=> Dựa trên bxh theo imdb rating với bxh của popularity để nhận xét: Liệu các phim top có hoàn được vốn(lợi nhuận) hay không, có thể đưa ra câu trả lời nào.\n"
   ]
  },
  {
   "attachments": {},
   "cell_type": "markdown",
   "metadata": {},
   "source": [
    "#### Giải pháp:\n",
    "- Sort data tăng dần theo lợi nhuận (Profit), gôm thành các khoảng 10 phim theo thứ tự và tính trung bình theo từng yếu tố( Meta score, User reviews, IMDb RATING, Votes, Popularity) \n",
    "- Vẽ các biểu đồ cột lợi nhuận \n",
    "- Vẽ các biểu đồ cột từng yếu tố từ đó tương quan có tăng theo lợi nhuận không và kết luận.  "
   ]
  },
  {
   "cell_type": "code",
   "execution_count": 52,
   "metadata": {},
   "outputs": [
    {
     "name": "stdout",
     "output_type": "stream",
     "text": [
      "<class 'pandas.core.frame.DataFrame'>\n",
      "Int64Index: 1000 entries, 0 to 999\n",
      "Data columns (total 21 columns):\n",
      " #   Column              Non-Null Count  Dtype  \n",
      "---  ------              --------------  -----  \n",
      " 0   STT                 1000 non-null   int32  \n",
      " 1   ID                  1000 non-null   object \n",
      " 2   Name                1000 non-null   object \n",
      " 3   Published Year      1000 non-null   int64  \n",
      " 4   Decade              1000 non-null   int64  \n",
      " 5   Rated               997 non-null    object \n",
      " 6   Duration            1000 non-null   float64\n",
      " 7   Genres              1000 non-null   object \n",
      " 8   Director            1000 non-null   object \n",
      " 9   Writers             1000 non-null   object \n",
      " 10  Stars               1000 non-null   object \n",
      " 11  IMDb RATING         1000 non-null   float64\n",
      " 12  Budget (estimated)  1000 non-null   float64\n",
      " 13  Gross               1000 non-null   float64\n",
      " 14  Popularity          1000 non-null   int64  \n",
      " 15  Votes               1000 non-null   int64  \n",
      " 16  User reviews        1000 non-null   float64\n",
      " 17  Critic reviews      1000 non-null   float64\n",
      " 18  Meta score          963 non-null    float64\n",
      " 19  Wins                984 non-null    object \n",
      " 20  URL                 1000 non-null   object \n",
      "dtypes: float64(7), int32(1), int64(4), object(9)\n",
      "memory usage: 168.0+ KB\n"
     ]
    }
   ],
   "source": [
    "film_info_df.info()"
   ]
  },
  {
   "cell_type": "code",
   "execution_count": 53,
   "metadata": {},
   "outputs": [],
   "source": [
    "# Chép bảng copy tránh ảnh hưởng các câu khác \n",
    "film_info_df_copy = film_info_df"
   ]
  },
  {
   "cell_type": "code",
   "execution_count": 54,
   "metadata": {},
   "outputs": [],
   "source": [
    "# Thêm một cột Profit là cột lợi nhuận\n",
    "film_info_df_copy['Profit'] = film_info_df_copy['Gross'] - film_info_df_copy['Budget (estimated)']"
   ]
  },
  {
   "cell_type": "code",
   "execution_count": 55,
   "metadata": {},
   "outputs": [],
   "source": [
    "# Loại các dòng có Gross và Budget (estimated) bằng 0\n",
    "shape = film_info_df_copy.shape\n",
    "for i in range(shape[0]):\n",
    "    if film_info_df_copy['Gross'][i] == 0.0 or film_info_df_copy['Budget (estimated)'][i] == 0.0:\n",
    "        film_info_df_copy = film_info_df_copy.drop(labels=[i])"
   ]
  },
  {
   "cell_type": "code",
   "execution_count": 56,
   "metadata": {},
   "outputs": [],
   "source": [
    "# Loại bỏ các dòng không có Meta score\n",
    "film_info_df_copy = film_info_df_copy.drop(film_info_df_copy[film_info_df_copy['Meta score'].isnull()].index)"
   ]
  },
  {
   "cell_type": "code",
   "execution_count": 57,
   "metadata": {},
   "outputs": [
    {
     "data": {
      "text/plain": [
       "(850, 22)"
      ]
     },
     "execution_count": 57,
     "metadata": {},
     "output_type": "execute_result"
    }
   ],
   "source": [
    "shape = film_info_df_copy.shape    \n",
    "shape"
   ]
  },
  {
   "cell_type": "code",
   "execution_count": 58,
   "metadata": {},
   "outputs": [],
   "source": [
    "# sắp xếp theo lợi nhuận tăng để dễ tương quan với các yêu tố khác \n",
    "film_info_df_copy = film_info_df_copy.sort_values(by='Profit')"
   ]
  },
  {
   "cell_type": "code",
   "execution_count": null,
   "metadata": {},
   "outputs": [],
   "source": [
    "film_info_df_copy"
   ]
  },
  {
   "cell_type": "code",
   "execution_count": 60,
   "metadata": {},
   "outputs": [],
   "source": [
    "# Hàm tính toán giá trị trung bình của từng yêu tố theo cụm n phim\n",
    "def convert_to(col, n):\n",
    "    sum = 0\n",
    "    count = 0\n",
    "    ans = []\n",
    "    for i in col:\n",
    "        sum += i\n",
    "        count += 1\n",
    "        if count == n:\n",
    "            count = 0\n",
    "            ans.append(round(sum/n, 1))\n",
    "            sum = 0\n",
    "    if (count !=0 ):\n",
    "        ans.append(round(sum/count, 1))\n",
    "    return ans"
   ]
  },
  {
   "cell_type": "code",
   "execution_count": 61,
   "metadata": {},
   "outputs": [],
   "source": [
    "# lưu các cụm theo các yếu tố vào data\n",
    "correlate_profit_with_x = pd.DataFrame()\n",
    "N = 10\n",
    "\n",
    "ans = convert_to(film_info_df_copy['Profit'], N)\n",
    "correlate_profit_with_x['Profit'] = ans\n",
    "\n",
    "ans = convert_to(film_info_df_copy['Meta score'], N)\n",
    "correlate_profit_with_x['Meta score'] = ans\n",
    "\n",
    "ans = convert_to(film_info_df_copy['User reviews'], N)\n",
    "correlate_profit_with_x['User reviews'] = ans\n",
    "\n",
    "ans = convert_to(film_info_df_copy['IMDb RATING'], N)\n",
    "correlate_profit_with_x['IMDb RATING'] = ans\n",
    "\n",
    "ans = convert_to(film_info_df_copy['Votes'], N)\n",
    "correlate_profit_with_x['Votes'] = ans\n",
    "\n",
    "ans = convert_to(film_info_df_copy['Popularity'], N)\n",
    "correlate_profit_with_x['Popularity'] = ans"
   ]
  },
  {
   "cell_type": "code",
   "execution_count": 62,
   "metadata": {},
   "outputs": [
    {
     "data": {
      "text/html": [
       "<div>\n",
       "<style scoped>\n",
       "    .dataframe tbody tr th:only-of-type {\n",
       "        vertical-align: middle;\n",
       "    }\n",
       "\n",
       "    .dataframe tbody tr th {\n",
       "        vertical-align: top;\n",
       "    }\n",
       "\n",
       "    .dataframe thead th {\n",
       "        text-align: right;\n",
       "    }\n",
       "</style>\n",
       "<table border=\"1\" class=\"dataframe\">\n",
       "  <thead>\n",
       "    <tr style=\"text-align: right;\">\n",
       "      <th></th>\n",
       "      <th>Profit</th>\n",
       "      <th>Meta score</th>\n",
       "      <th>User reviews</th>\n",
       "      <th>IMDb RATING</th>\n",
       "      <th>Votes</th>\n",
       "      <th>Popularity</th>\n",
       "    </tr>\n",
       "  </thead>\n",
       "  <tbody>\n",
       "    <tr>\n",
       "      <th>0</th>\n",
       "      <td>-84096863.1</td>\n",
       "      <td>75.5</td>\n",
       "      <td>1659.8</td>\n",
       "      <td>7.4</td>\n",
       "      <td>376482.2</td>\n",
       "      <td>1441.7</td>\n",
       "    </tr>\n",
       "    <tr>\n",
       "      <th>1</th>\n",
       "      <td>-41762269.5</td>\n",
       "      <td>67.1</td>\n",
       "      <td>569.8</td>\n",
       "      <td>7.4</td>\n",
       "      <td>151907.0</td>\n",
       "      <td>1783.8</td>\n",
       "    </tr>\n",
       "    <tr>\n",
       "      <th>2</th>\n",
       "      <td>-30564143.7</td>\n",
       "      <td>70.4</td>\n",
       "      <td>797.2</td>\n",
       "      <td>7.3</td>\n",
       "      <td>305619.1</td>\n",
       "      <td>1339.6</td>\n",
       "    </tr>\n",
       "    <tr>\n",
       "      <th>3</th>\n",
       "      <td>-24877939.4</td>\n",
       "      <td>64.8</td>\n",
       "      <td>1021.4</td>\n",
       "      <td>7.4</td>\n",
       "      <td>411859.2</td>\n",
       "      <td>1538.2</td>\n",
       "    </tr>\n",
       "    <tr>\n",
       "      <th>4</th>\n",
       "      <td>-20815091.1</td>\n",
       "      <td>71.3</td>\n",
       "      <td>912.1</td>\n",
       "      <td>7.5</td>\n",
       "      <td>293728.2</td>\n",
       "      <td>1242.2</td>\n",
       "    </tr>\n",
       "  </tbody>\n",
       "</table>\n",
       "</div>"
      ],
      "text/plain": [
       "       Profit  Meta score  User reviews  IMDb RATING     Votes  Popularity\n",
       "0 -84096863.1        75.5        1659.8          7.4  376482.2      1441.7\n",
       "1 -41762269.5        67.1         569.8          7.4  151907.0      1783.8\n",
       "2 -30564143.7        70.4         797.2          7.3  305619.1      1339.6\n",
       "3 -24877939.4        64.8        1021.4          7.4  411859.2      1538.2\n",
       "4 -20815091.1        71.3         912.1          7.5  293728.2      1242.2"
      ]
     },
     "execution_count": 62,
     "metadata": {},
     "output_type": "execute_result"
    }
   ],
   "source": [
    "correlate_profit_with_x.head()"
   ]
  },
  {
   "cell_type": "code",
   "execution_count": 63,
   "metadata": {},
   "outputs": [],
   "source": [
    "# xác định chiều dài trục x tùy vào số khoảng n gán trên\n",
    "len_x = len(film_info_df_copy['Profit'])\n",
    "if len_x % N == 0:\n",
    "    pos = len_x / N\n",
    "else:\n",
    "    pos = math.floor(len_x / N) + 1"
   ]
  },
  {
   "cell_type": "code",
   "execution_count": 64,
   "metadata": {},
   "outputs": [
    {
     "data": {
      "text/plain": [
       "Text(0.5, 1.0, 'Lợi nhuận trung bình trên khoảng 10 phim')"
      ]
     },
     "execution_count": 64,
     "metadata": {},
     "output_type": "execute_result"
    },
    {
     "data": {
      "image/png": "[encoded data removed]",
      "text/plain": [
       "<Figure size 1200x300 with 1 Axes>"
      ]
     },
     "metadata": {},
     "output_type": "display_data"
    }
   ],
   "source": [
    "index = np.arange(pos)\n",
    "fig =plt.subplots(figsize=(12,3))\n",
    "plt.bar(index, correlate_profit_with_x['Profit'])\n",
    "plt.xlabel(\"Khoảng\")\n",
    "plt.ylabel(\"Lợi nhuận\")\n",
    "plt.title(\"Lợi nhuận trung bình trên khoảng 10 phim\")"
   ]
  },
  {
   "attachments": {},
   "cell_type": "markdown",
   "metadata": {},
   "source": [
    "#### Nhận xét: \n",
    "- Lợi nhuận của các phim vẫn có các trường hợp lỗ từ đó ta phối hợp cùng các yếu tố khác đánh giá phim đạt được các tiêu chí gì thì có khả năng hoàn vốn và sinh lời "
   ]
  },
  {
   "cell_type": "code",
   "execution_count": 66,
   "metadata": {},
   "outputs": [
    {
     "data": {
      "text/plain": [
       "Text(0.5, 1.0, 'Điểm Meta score trung bình trên khoảng 10 phim')"
      ]
     },
     "execution_count": 66,
     "metadata": {},
     "output_type": "execute_result"
    },
    {
     "data": {
      "image/png": "[encoded data removed]",
      "text/plain": [
       "<Figure size 1000x400 with 1 Axes>"
      ]
     },
     "metadata": {},
     "output_type": "display_data"
    }
   ],
   "source": [
    "index = np.arange(pos)\n",
    "fig =plt.subplots(figsize=(10,4))\n",
    "plt.bar(index, correlate_profit_with_x['Meta score'])\n",
    "plt.xlabel(\"Khoảng\")\n",
    "plt.ylabel(\"Meta score\")\n",
    "plt.title(\"Điểm Meta score trung bình trên khoảng 10 phim\")"
   ]
  },
  {
   "attachments": {},
   "cell_type": "markdown",
   "metadata": {},
   "source": [
    "#### Nhận xét: \n",
    "\n",
    "- Quan sát biểu đồ một cách tỉ mỉ ta thấy rằng từ khoảng y = 55 trở lên yếu tố meta score cao đều đặng ổn định trên mức 70, không còn xảy ra các trường hợp thấp hơn 70 nữa\n",
    "- Tuy vẫn còn chưa biểu diễn sự ảnh hưởng rõ ràng từ điểm Meta score lên lợi nhuận mang lại vì dưới khoảng thứ 40 vẫn còn các khoảng cao đột biến nhưng không mang tính ổn định vì vẫn còn các cột thấp dưới 70\n",
    "\n",
    "=> Nhưng biểu đồ vẫn phản ánh được rằng phim có lợi nhuận thường sẽ có điểm meta score cao hơn 70, lợi nhuận càng cao mức cao hơn 70 này càng ổn định"
   ]
  },
  {
   "cell_type": "code",
   "execution_count": 67,
   "metadata": {},
   "outputs": [
    {
     "data": {
      "text/plain": [
       "Text(0.5, 1.0, 'Số lượng User reviews trung bình trên khoảng 10 phim')"
      ]
     },
     "execution_count": 67,
     "metadata": {},
     "output_type": "execute_result"
    },
    {
     "data": {
      "image/png": "[encoded data removed]",
      "text/plain": [
       "<Figure size 1000x400 with 1 Axes>"
      ]
     },
     "metadata": {},
     "output_type": "display_data"
    }
   ],
   "source": [
    "index = np.arange(pos)\n",
    "fig =plt.subplots(figsize=(10,4))\n",
    "plt.bar(index, correlate_profit_with_x['User reviews'])\n",
    "plt.xlabel(\"Khoảng\")\n",
    "plt.ylabel(\"User reviews\")\n",
    "plt.title(\"Số lượng User reviews trung bình trên khoảng 10 phim\")"
   ]
  },
  {
   "attachments": {},
   "cell_type": "markdown",
   "metadata": {},
   "source": [
    "#### Nhận xét: \n",
    "\n",
    "- Quan sát biểu đồ ta thấy từ khoảng 20 trở lên số lượng user reviews tăng có phần ổn định cho đến cuối\n",
    "- Tuy vẫn còn có những giá trị nhiễu cao một cách đột biến nhưng vẫn không ảnh hướng nhiều đến chiều hướng tăng số lượng user reviews khi tắng lượng nhuận\n",
    "\n",
    "=> số lượng user reviews phản ảnh khá rõ ràng nếu tắng số lượng user reviews thì lợi nhuận sẽ tăng."
   ]
  },
  {
   "cell_type": "code",
   "execution_count": 68,
   "metadata": {},
   "outputs": [
    {
     "data": {
      "text/plain": [
       "Text(0.5, 1.0, 'Điểm IMDb RATING trung bình trên khoảng 10 phim')"
      ]
     },
     "execution_count": 68,
     "metadata": {},
     "output_type": "execute_result"
    },
    {
     "data": {
      "image/png": "[encoded data removed]",
      "text/plain": [
       "<Figure size 1000x400 with 1 Axes>"
      ]
     },
     "metadata": {},
     "output_type": "display_data"
    }
   ],
   "source": [
    "index = np.arange(pos)\n",
    "fig =plt.subplots(figsize=(10,4))\n",
    "plt.bar(index, correlate_profit_with_x['IMDb RATING'])\n",
    "plt.xlabel(\"Khoảng\")\n",
    "plt.ylabel(\"IMDb RATING\")\n",
    "plt.title(\"Điểm IMDb RATING trung bình trên khoảng 10 phim\")"
   ]
  },
  {
   "attachments": {},
   "cell_type": "markdown",
   "metadata": {},
   "source": [
    "#### Nhận xét: \n",
    "\n",
    "- Tương tự biển đồ meta score cần quan sát kĩ mới thất điểm IMDb RATING từ sau khoảng thứ 55 có phần cao ổn định hơn 1 tí so với các khoảng đầu \n",
    "\n",
    "=> Điểm IMDb RATING nới về chất lượng phim, việc phim được khởi chiếu với mọi người chắc chắn đã đảm bảo được phần nào về chất lượng nên điểm trung bình tất cả phim sẽ đạt ngưỡng trên 7 điểm, khó đánh giá tương quan IMDb RATING với lợi nhuận. Các phim chất lượng nhỉnh hơn một tí có xu hướng lợi nhuận cao hơn. "
   ]
  },
  {
   "cell_type": "code",
   "execution_count": 69,
   "metadata": {},
   "outputs": [
    {
     "data": {
      "text/plain": [
       "Text(0.5, 1.0, 'Số lượng Votes trung bình trên khoảng 10 phim')"
      ]
     },
     "execution_count": 69,
     "metadata": {},
     "output_type": "execute_result"
    },
    {
     "data": {
      "image/png": "[encoded data removed]",
      "text/plain": [
       "<Figure size 1000x400 with 1 Axes>"
      ]
     },
     "metadata": {},
     "output_type": "display_data"
    }
   ],
   "source": [
    "index = np.arange(pos)\n",
    "fig =plt.subplots(figsize=(10,4))\n",
    "plt.bar(index, correlate_profit_with_x['Votes'])\n",
    "plt.xlabel(\"Khoảng\")\n",
    "plt.ylabel(\"Votes\")\n",
    "plt.title(\"Số lượng Votes trung bình trên khoảng 10 phim\")"
   ]
  },
  {
   "attachments": {},
   "cell_type": "markdown",
   "metadata": {},
   "source": [
    "#### Nhận xét: \n",
    "\n",
    "- Quan sát biểu đồ tương tự như user reviews ta thấy từ khoảng 20 trở lên số lượng votes tăng có phần ổn định cho đến cuối\n",
    "- Tuy vẫn còn có những giá trị nhiễu cao một cách đột biến nhưng vẫn không ảnh hướng nhiều đến chiều hướng tăng số lượng votes khi tắng lợi nhuận\n",
    "\n",
    "=> số lượng votes phản ảnh khá rõ ràng nếu số lượng votes tắng cao thì lợi nhuận sẽ tăng."
   ]
  },
  {
   "cell_type": "code",
   "execution_count": 70,
   "metadata": {},
   "outputs": [
    {
     "data": {
      "text/plain": [
       "Text(0.5, 1.0, 'độ Popularity trung bình trên khoảng 10 phim')"
      ]
     },
     "execution_count": 70,
     "metadata": {},
     "output_type": "execute_result"
    },
    {
     "data": {
      "image/png": "[encoded data removed]",
      "text/plain": [
       "<Figure size 1000x400 with 1 Axes>"
      ]
     },
     "metadata": {},
     "output_type": "display_data"
    }
   ],
   "source": [
    "index = np.arange(pos)\n",
    "fig =plt.subplots(figsize=(10,4))\n",
    "plt.bar(index, correlate_profit_with_x['Popularity'])\n",
    "plt.xlabel(\"Khoảng\")\n",
    "plt.ylabel(\"Popularity\")\n",
    "plt.title(\"độ Popularity trung bình trên khoảng 10 phim\")"
   ]
  },
  {
   "attachments": {},
   "cell_type": "markdown",
   "metadata": {},
   "source": [
    "#### Nhận xét: \n",
    "\n",
    "- Độ Popularity có thể thay đổi tăng giảm sau khoảng thời gian mà không cố định -> nên biển đồ phản ảnh lộn xộn, không thể tương quan Popularity với lợi nhuận (Profit)"
   ]
  },
  {
   "attachments": {},
   "cell_type": "markdown",
   "metadata": {},
   "source": [
    "### Kết luận câu hỏi 5 :\n",
    "- Ta có thể dựa vào các yếu tố như: User reviews, Votes là các chỉ số phán ánh rõ ràng nhất trược tiếp từ người xem mà suy luận khả năng sinh lợi nhuận của một phim -> từ đó phán đoán phim có đánh vào đại đa số kháng giả không mà mà sản xuất, hay sáu khi khởi chiểu dự đoán danh thu có vao không.\n",
    "- Song ta cũng có thể dự vào các yếu tố như: IMDb RATING, Meta score là các điểm được chấm từ chuyên gia và chất lượng phim, hình ảnh cũng phản ánh khách quan nếu điểm cao thì lợi nhuận cao nhưng đôi khi chuyên môn cũng không phản ánh chính xác mà chỉ phần nào. \n",
    "- Không thể dựa vào các yếu tố có thể biến động tăng giảm như Popularity để đánh giá lợi nhuận.\n",
    "\n",
    "=> Để phán đoán phim làm ra có đạt lợi nhuận cao hay không phần nào có thể đánh giá dự trên các yếu tố như: User reviews, Votes, IMDb RATING, Meta score,... Nhưng đôi lúc cũng không hoàn toàn chính bởi các yếu tố khách quan hay chủ quan nào đó nên mới có các phim lỗ dù đầu tư cao về nhiều mặt. "
   ]
  }
 ],
 "metadata": {
  "kernelspec": {
   "display_name": "Python 3",
   "language": "python",
   "name": "python3"
  },
  "language_info": {
   "codemirror_mode": {
    "name": "ipython",
    "version": 3
   },
   "file_extension": ".py",
   "mimetype": "text/x-python",
   "name": "python",
   "nbconvert_exporter": "python",
   "pygments_lexer": "ipython3",
   "version": "3.10.7"
  },
  "vscode": {
   "interpreter": {
    "hash": "27f6fea6f47ae512550f0b8facdbd035a93e1dd89633f7bf2dd00a2502c71d0d"
   }
  }
 },
 "nbformat": 4,
 "nbformat_minor": 2
}
